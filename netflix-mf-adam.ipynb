{
 "cells": [
  {
   "cell_type": "code",
   "execution_count": 191,
   "outputs": [],
   "source": [
    "import pandas as pd\n",
    "import numpy as np\n",
    "import torch\n",
    "from sklearn.metrics import mean_squared_error, r2_score"
   ],
   "metadata": {
    "collapsed": false,
    "ExecuteTime": {
     "end_time": "2023-06-04T12:12:42.584901Z",
     "start_time": "2023-06-04T12:12:42.582722Z"
    }
   }
  },
  {
   "cell_type": "code",
   "execution_count": 192,
   "outputs": [],
   "source": [
    "def get_evaluation(R, P, Q, non_zeros):\n",
    "    error = 0\n",
    "    full_prd_matrix = np.dot(P, Q.T)\n",
    "\n",
    "    x_non_zero_ind = [non_zero[0] for non_zero in non_zeros]\n",
    "    y_non_zero_ind = [non_zero[1] for non_zero in non_zeros]\n",
    "    R_non_zeros = R[x_non_zero_ind, y_non_zero_ind]\n",
    "\n",
    "    full_prd_matrix_non_zeros = full_prd_matrix[x_non_zero_ind, y_non_zero_ind]\n",
    "\n",
    "    mse = mean_squared_error(R_non_zeros, full_prd_matrix_non_zeros)\n",
    "    r2 = r2_score(R_non_zeros, full_prd_matrix_non_zeros)\n",
    "    rmse = np.sqrt(mse)\n",
    "\n",
    "    return rmse, r2"
   ],
   "metadata": {
    "collapsed": false,
    "ExecuteTime": {
     "end_time": "2023-06-04T12:13:04.268572Z",
     "start_time": "2023-06-04T12:13:04.263199Z"
    }
   }
  },
  {
   "cell_type": "code",
   "execution_count": 195,
   "outputs": [],
   "source": [
    "class MatrixFactorization(torch.nn.Module):\n",
    "    def __init__(self, num_users, num_items, n_factors=20):\n",
    "        super(MatrixFactorization, self).__init__()\n",
    "        self.n_factors = n_factors\n",
    "\n",
    "        self.user_factors = torch.randn(num_users, n_factors).requires_grad_()\n",
    "        self.item_factors = torch.randn(num_items, n_factors).requires_grad_()\n",
    "\n",
    "    def forward(self, user, item):\n",
    "        return (self.user_factors(user) * self.item_factors(item)).sum(1)"
   ],
   "metadata": {
    "collapsed": false,
    "ExecuteTime": {
     "end_time": "2023-06-04T12:16:18.220161Z",
     "start_time": "2023-06-04T12:16:18.217422Z"
    }
   }
  },
  {
   "cell_type": "code",
   "execution_count": 214,
   "outputs": [],
   "source": [
    "def NMF(input_matrix, factors, epochs=200, learning_rate=0.008, weight_decay=0.01):\n",
    "    num_users, num_items = input_matrix.shape\n",
    "\n",
    "    model = MatrixFactorization(num_users, num_items, factors)\n",
    "    optimizer = torch.optim.Adam([model.item_factors, model.user_factors], lr=learning_rate)\n",
    "    loss_function = torch.nn.MSELoss()\n",
    "\n",
    "    loss_curve = []\n",
    "\n",
    "    for epoch in range(epochs):\n",
    "        optimizer.zero_grad()\n",
    "        mask = ~torch.isnan(input_matrix)\n",
    "\n",
    "        # print((model.user_factors @ model.item_factors.t())[mask])\n",
    "        # print(input_matrix[mask])\n",
    "        loss = loss_function((model.user_factors @ model.item_factors.t())[mask], input_matrix[mask])\n",
    "        loss.backward()\n",
    "        optimizer.step()\n",
    "\n",
    "        model.user_factors.data.clamp_(min=0)\n",
    "        model.item_factors.data.clamp_(min=0)\n",
    "\n",
    "        loss_curve.append(loss.item())\n",
    "\n",
    "        # if epoch % 10 == 0:\n",
    "        print(f'[{epoch}] loss: {loss.item():.05f}')\n",
    "\n",
    "    return model.user_factors, model.item_factors"
   ],
   "metadata": {
    "collapsed": false,
    "ExecuteTime": {
     "end_time": "2023-06-04T12:21:53.401040Z",
     "start_time": "2023-06-04T12:21:53.396964Z"
    }
   }
  },
  {
   "cell_type": "code",
   "execution_count": 188,
   "outputs": [],
   "source": [
    "movies = pd.read_csv('../dataset/Netflix_Dataset_Movie.csv')\n",
    "ratings = pd.read_csv('../dataset/Netflix_Dataset_Rating.csv')\n",
    "\n",
    "ratings = ratings[['User_ID', 'Movie_ID', 'Rating']]\n",
    "rating_movies = pd.merge(ratings, movies, on='Movie_ID')\n",
    "ratings_matrix = rating_movies.pivot_table('Rating', index='User_ID', columns='Name')"
   ],
   "metadata": {
    "collapsed": false,
    "ExecuteTime": {
     "end_time": "2023-06-04T12:00:57.010593Z",
     "start_time": "2023-06-04T12:00:41.319563Z"
    }
   }
  },
  {
   "cell_type": "code",
   "execution_count": 197,
   "outputs": [],
   "source": [
    "ratings_matrix_tensor = torch.Tensor(ratings_matrix.values)"
   ],
   "metadata": {
    "collapsed": false,
    "ExecuteTime": {
     "end_time": "2023-06-04T12:17:03.573202Z",
     "start_time": "2023-06-04T12:17:03.132948Z"
    }
   }
  },
  {
   "cell_type": "code",
   "execution_count": 201,
   "outputs": [
    {
     "data": {
      "text/plain": "tensor([[nan, nan, nan,  ..., nan, nan, nan],\n        [nan, nan, nan,  ..., nan, nan, nan],\n        [nan, nan, 3.,  ..., nan, 3., nan],\n        ...,\n        [nan, nan, nan,  ..., nan, nan, nan],\n        [nan, nan, nan,  ..., nan, nan, nan],\n        [nan, nan, nan,  ..., nan, nan, nan]])"
     },
     "execution_count": 201,
     "metadata": {},
     "output_type": "execute_result"
    }
   ],
   "source": [
    "ratings_matrix_tensor"
   ],
   "metadata": {
    "collapsed": false,
    "ExecuteTime": {
     "end_time": "2023-06-04T12:17:29.681091Z",
     "start_time": "2023-06-04T12:17:29.674485Z"
    }
   }
  },
  {
   "cell_type": "code",
   "execution_count": 215,
   "outputs": [
    {
     "name": "stdout",
     "output_type": "stream",
     "text": [
      "[0] loss: 63.35484\n",
      "[1] loss: 29.50241\n",
      "[2] loss: 28.14599\n",
      "[3] loss: 26.74527\n",
      "[4] loss: 25.38014\n",
      "[5] loss: 24.06735\n",
      "[6] loss: 22.81307\n",
      "[7] loss: 21.62005\n",
      "[8] loss: 20.48888\n",
      "[9] loss: 19.41856\n",
      "[10] loss: 18.40804\n",
      "[11] loss: 17.45552\n",
      "[12] loss: 16.55931\n",
      "[13] loss: 15.71704\n",
      "[14] loss: 14.92669\n",
      "[15] loss: 14.18606\n",
      "[16] loss: 13.49268\n",
      "[17] loss: 12.84393\n",
      "[18] loss: 12.23733\n",
      "[19] loss: 11.67080\n",
      "[20] loss: 11.14189\n",
      "[21] loss: 10.64830\n",
      "[22] loss: 10.18781\n",
      "[23] loss: 9.75830\n",
      "[24] loss: 9.35768\n",
      "[25] loss: 8.98429\n",
      "[26] loss: 8.63595\n",
      "[27] loss: 8.31097\n",
      "[28] loss: 8.00761\n",
      "[29] loss: 7.72442\n",
      "[30] loss: 7.45986\n",
      "[31] loss: 7.21248\n",
      "[32] loss: 6.98103\n",
      "[33] loss: 6.76426\n",
      "[34] loss: 6.56098\n",
      "[35] loss: 6.37016\n",
      "[36] loss: 6.19082\n",
      "[37] loss: 6.02199\n",
      "[38] loss: 5.86283\n",
      "[39] loss: 5.71257\n",
      "[40] loss: 5.57051\n",
      "[41] loss: 5.43603\n",
      "[42] loss: 5.30857\n",
      "[43] loss: 5.18759\n",
      "[44] loss: 5.07259\n",
      "[45] loss: 4.96313\n",
      "[46] loss: 4.85880\n",
      "[47] loss: 4.75927\n",
      "[48] loss: 4.66419\n",
      "[49] loss: 4.57322\n",
      "[50] loss: 4.48612\n",
      "[51] loss: 4.40263\n",
      "[52] loss: 4.32250\n",
      "[53] loss: 4.24555\n",
      "[54] loss: 4.17159\n",
      "[55] loss: 4.10044\n",
      "[56] loss: 4.03195\n",
      "[57] loss: 3.96599\n",
      "[58] loss: 3.90242\n",
      "[59] loss: 3.84110\n",
      "[60] loss: 3.78189\n",
      "[61] loss: 3.72471\n",
      "[62] loss: 3.66944\n",
      "[63] loss: 3.61602\n",
      "[64] loss: 3.56433\n",
      "[65] loss: 3.51429\n",
      "[66] loss: 3.46581\n",
      "[67] loss: 3.41882\n",
      "[68] loss: 3.37325\n",
      "[69] loss: 3.32903\n",
      "[70] loss: 3.28609\n",
      "[71] loss: 3.24440\n",
      "[72] loss: 3.20389\n",
      "[73] loss: 3.16450\n",
      "[74] loss: 3.12617\n",
      "[75] loss: 3.08886\n",
      "[76] loss: 3.05252\n",
      "[77] loss: 3.01713\n",
      "[78] loss: 2.98263\n",
      "[79] loss: 2.94900\n",
      "[80] loss: 2.91619\n",
      "[81] loss: 2.88418\n",
      "[82] loss: 2.85293\n",
      "[83] loss: 2.82243\n",
      "[84] loss: 2.79264\n",
      "[85] loss: 2.76354\n",
      "[86] loss: 2.73510\n",
      "[87] loss: 2.70731\n",
      "[88] loss: 2.68014\n",
      "[89] loss: 2.65356\n",
      "[90] loss: 2.62755\n",
      "[91] loss: 2.60211\n",
      "[92] loss: 2.57721\n",
      "[93] loss: 2.55283\n"
     ]
    },
    {
     "ename": "KeyboardInterrupt",
     "evalue": "",
     "output_type": "error",
     "traceback": [
      "\u001B[0;31m---------------------------------------------------------------------------\u001B[0m",
      "\u001B[0;31mKeyboardInterrupt\u001B[0m                         Traceback (most recent call last)",
      "Input \u001B[0;32mIn [215]\u001B[0m, in \u001B[0;36m<cell line: 1>\u001B[0;34m()\u001B[0m\n\u001B[0;32m----> 1\u001B[0m nmf_run \u001B[38;5;241m=\u001B[39m \u001B[43mNMF\u001B[49m\u001B[43m(\u001B[49m\u001B[43mratings_matrix_tensor\u001B[49m\u001B[43m,\u001B[49m\u001B[43m \u001B[49m\u001B[38;5;241;43m50\u001B[39;49m\u001B[43m,\u001B[49m\u001B[43m \u001B[49m\u001B[43mepochs\u001B[49m\u001B[38;5;241;43m=\u001B[39;49m\u001B[38;5;241;43m500\u001B[39;49m\u001B[43m)\u001B[49m\n",
      "Input \u001B[0;32mIn [214]\u001B[0m, in \u001B[0;36mNMF\u001B[0;34m(input_matrix, factors, epochs, learning_rate, weight_decay)\u001B[0m\n\u001B[1;32m     12\u001B[0m mask \u001B[38;5;241m=\u001B[39m \u001B[38;5;241m~\u001B[39mtorch\u001B[38;5;241m.\u001B[39misnan(input_matrix)\n\u001B[1;32m     14\u001B[0m \u001B[38;5;66;03m# print((model.user_factors @ model.item_factors.t())[mask])\u001B[39;00m\n\u001B[1;32m     15\u001B[0m \u001B[38;5;66;03m# print(input_matrix[mask])\u001B[39;00m\n\u001B[0;32m---> 16\u001B[0m loss \u001B[38;5;241m=\u001B[39m loss_function((\u001B[43mmodel\u001B[49m\u001B[38;5;241;43m.\u001B[39;49m\u001B[43muser_factors\u001B[49m\u001B[43m \u001B[49m\u001B[38;5;241;43m@\u001B[39;49m\u001B[43m \u001B[49m\u001B[43mmodel\u001B[49m\u001B[38;5;241;43m.\u001B[39;49m\u001B[43mitem_factors\u001B[49m\u001B[38;5;241;43m.\u001B[39;49m\u001B[43mt\u001B[49m\u001B[43m(\u001B[49m\u001B[43m)\u001B[49m)[mask], input_matrix[mask])\n\u001B[1;32m     17\u001B[0m loss\u001B[38;5;241m.\u001B[39mbackward()\n\u001B[1;32m     18\u001B[0m optimizer\u001B[38;5;241m.\u001B[39mstep()\n",
      "\u001B[0;31mKeyboardInterrupt\u001B[0m: "
     ]
    }
   ],
   "source": [
    "nmf_run = NMF(ratings_matrix_tensor, 50, epochs=500)"
   ],
   "metadata": {
    "collapsed": false,
    "ExecuteTime": {
     "end_time": "2023-06-04T12:22:57.521486Z",
     "start_time": "2023-06-04T12:21:55.858404Z"
    }
   }
  },
  {
   "cell_type": "code",
   "execution_count": 132,
   "outputs": [
    {
     "data": {
      "text/plain": "        0         1         2         3         4         5         6       \\\n0     2.625538  3.431872  2.672669  3.709504  3.731326  4.976661  3.864340   \n1     3.231055  3.704476  5.512858  2.594706  4.040402  4.003501  2.928669   \n2     2.389268  4.776480  2.118403  3.782547  3.688638  4.122883  2.835291   \n3     3.869022  4.619966  2.866062  3.570616  3.354860  2.107881  3.196456   \n4     5.040861  3.637879  4.055535  4.685837  5.602990  2.047171  3.208319   \n...        ...       ...       ...       ...       ...       ...       ...   \n1337  4.036912  4.409901  2.952969  4.057939  6.793875  3.793667  5.437775   \n1338  3.107593  3.252981  2.765983  3.941231  4.370182  3.588746  2.553835   \n1339  3.006012  3.895520  4.241758  2.845791  5.028035  3.925111  2.701851   \n1340  3.520503  3.065695  4.195328  2.632923  4.841404  2.751479  2.655208   \n1341  5.092457  3.435837  1.597586  1.875188  4.924810  2.014482  5.861706   \n\n        7         8         9       ...    143448    143449    143450  \\\n0     3.340634  4.341229  3.605201  ...  3.160424  3.257455  3.219889   \n1     3.937875  2.845485  3.529291  ...  5.122814  3.709512  5.209528   \n2     3.726233  3.207073  3.018428  ...  3.762223  3.493170  3.012693   \n3     1.590494  3.119542  3.519136  ...  1.926454  3.480530  5.935805   \n4     4.454806  3.039951  5.140816  ...  5.695179  3.051153  4.459912   \n...        ...       ...       ...  ...       ...       ...       ...   \n1337  3.914649  5.042058  4.427708  ...  3.746997  4.052462  5.495807   \n1338  3.831107  3.079155  3.735458  ...  3.318310  3.036486  4.603397   \n1339  3.440524  2.851184  3.561110  ...  3.991698  3.926734  4.758273   \n1340  3.266983  1.999800  4.114881  ...  3.706350  4.165103  4.986201   \n1341  3.479356  3.277355  6.239469  ...  3.731213  4.150439  4.869679   \n\n        143451    143452    143453    143454    143455    143456    143457  \n0     2.555960  3.581506  3.559414  2.259343  3.390995  3.698290  6.101260  \n1     4.452822  3.942453  3.933462  3.815676  3.757327  4.151972  5.317791  \n2     4.475636  3.520341  3.706087  3.514571  4.254776  3.864866  4.007757  \n3     5.453445  3.077968  3.155723  2.234697  2.595825  3.799029  3.010624  \n4     3.445697  2.047769  2.638229  2.175391  3.274747  4.197145  1.427637  \n...        ...       ...       ...       ...       ...       ...       ...  \n1337  4.054692  3.654995  4.408473  2.811813  3.616958  4.185738  4.653183  \n1338  2.359532  3.745549  2.854896  2.573550  3.713430  3.219836  4.560983  \n1339  3.742675  3.775186  4.169005  3.242388  3.062944  3.324450  3.851436  \n1340  3.432314  3.192564  2.627454  3.310305  3.944461  3.173165  3.351204  \n1341  3.359680  3.864292  4.820032  3.587594  2.432933  2.781824  2.637487  \n\n[1342 rows x 143458 columns]",
      "text/html": "<div>\n<style scoped>\n    .dataframe tbody tr th:only-of-type {\n        vertical-align: middle;\n    }\n\n    .dataframe tbody tr th {\n        vertical-align: top;\n    }\n\n    .dataframe thead th {\n        text-align: right;\n    }\n</style>\n<table border=\"1\" class=\"dataframe\">\n  <thead>\n    <tr style=\"text-align: right;\">\n      <th></th>\n      <th>0</th>\n      <th>1</th>\n      <th>2</th>\n      <th>3</th>\n      <th>4</th>\n      <th>5</th>\n      <th>6</th>\n      <th>7</th>\n      <th>8</th>\n      <th>9</th>\n      <th>...</th>\n      <th>143448</th>\n      <th>143449</th>\n      <th>143450</th>\n      <th>143451</th>\n      <th>143452</th>\n      <th>143453</th>\n      <th>143454</th>\n      <th>143455</th>\n      <th>143456</th>\n      <th>143457</th>\n    </tr>\n  </thead>\n  <tbody>\n    <tr>\n      <th>0</th>\n      <td>2.625538</td>\n      <td>3.431872</td>\n      <td>2.672669</td>\n      <td>3.709504</td>\n      <td>3.731326</td>\n      <td>4.976661</td>\n      <td>3.864340</td>\n      <td>3.340634</td>\n      <td>4.341229</td>\n      <td>3.605201</td>\n      <td>...</td>\n      <td>3.160424</td>\n      <td>3.257455</td>\n      <td>3.219889</td>\n      <td>2.555960</td>\n      <td>3.581506</td>\n      <td>3.559414</td>\n      <td>2.259343</td>\n      <td>3.390995</td>\n      <td>3.698290</td>\n      <td>6.101260</td>\n    </tr>\n    <tr>\n      <th>1</th>\n      <td>3.231055</td>\n      <td>3.704476</td>\n      <td>5.512858</td>\n      <td>2.594706</td>\n      <td>4.040402</td>\n      <td>4.003501</td>\n      <td>2.928669</td>\n      <td>3.937875</td>\n      <td>2.845485</td>\n      <td>3.529291</td>\n      <td>...</td>\n      <td>5.122814</td>\n      <td>3.709512</td>\n      <td>5.209528</td>\n      <td>4.452822</td>\n      <td>3.942453</td>\n      <td>3.933462</td>\n      <td>3.815676</td>\n      <td>3.757327</td>\n      <td>4.151972</td>\n      <td>5.317791</td>\n    </tr>\n    <tr>\n      <th>2</th>\n      <td>2.389268</td>\n      <td>4.776480</td>\n      <td>2.118403</td>\n      <td>3.782547</td>\n      <td>3.688638</td>\n      <td>4.122883</td>\n      <td>2.835291</td>\n      <td>3.726233</td>\n      <td>3.207073</td>\n      <td>3.018428</td>\n      <td>...</td>\n      <td>3.762223</td>\n      <td>3.493170</td>\n      <td>3.012693</td>\n      <td>4.475636</td>\n      <td>3.520341</td>\n      <td>3.706087</td>\n      <td>3.514571</td>\n      <td>4.254776</td>\n      <td>3.864866</td>\n      <td>4.007757</td>\n    </tr>\n    <tr>\n      <th>3</th>\n      <td>3.869022</td>\n      <td>4.619966</td>\n      <td>2.866062</td>\n      <td>3.570616</td>\n      <td>3.354860</td>\n      <td>2.107881</td>\n      <td>3.196456</td>\n      <td>1.590494</td>\n      <td>3.119542</td>\n      <td>3.519136</td>\n      <td>...</td>\n      <td>1.926454</td>\n      <td>3.480530</td>\n      <td>5.935805</td>\n      <td>5.453445</td>\n      <td>3.077968</td>\n      <td>3.155723</td>\n      <td>2.234697</td>\n      <td>2.595825</td>\n      <td>3.799029</td>\n      <td>3.010624</td>\n    </tr>\n    <tr>\n      <th>4</th>\n      <td>5.040861</td>\n      <td>3.637879</td>\n      <td>4.055535</td>\n      <td>4.685837</td>\n      <td>5.602990</td>\n      <td>2.047171</td>\n      <td>3.208319</td>\n      <td>4.454806</td>\n      <td>3.039951</td>\n      <td>5.140816</td>\n      <td>...</td>\n      <td>5.695179</td>\n      <td>3.051153</td>\n      <td>4.459912</td>\n      <td>3.445697</td>\n      <td>2.047769</td>\n      <td>2.638229</td>\n      <td>2.175391</td>\n      <td>3.274747</td>\n      <td>4.197145</td>\n      <td>1.427637</td>\n    </tr>\n    <tr>\n      <th>...</th>\n      <td>...</td>\n      <td>...</td>\n      <td>...</td>\n      <td>...</td>\n      <td>...</td>\n      <td>...</td>\n      <td>...</td>\n      <td>...</td>\n      <td>...</td>\n      <td>...</td>\n      <td>...</td>\n      <td>...</td>\n      <td>...</td>\n      <td>...</td>\n      <td>...</td>\n      <td>...</td>\n      <td>...</td>\n      <td>...</td>\n      <td>...</td>\n      <td>...</td>\n      <td>...</td>\n    </tr>\n    <tr>\n      <th>1337</th>\n      <td>4.036912</td>\n      <td>4.409901</td>\n      <td>2.952969</td>\n      <td>4.057939</td>\n      <td>6.793875</td>\n      <td>3.793667</td>\n      <td>5.437775</td>\n      <td>3.914649</td>\n      <td>5.042058</td>\n      <td>4.427708</td>\n      <td>...</td>\n      <td>3.746997</td>\n      <td>4.052462</td>\n      <td>5.495807</td>\n      <td>4.054692</td>\n      <td>3.654995</td>\n      <td>4.408473</td>\n      <td>2.811813</td>\n      <td>3.616958</td>\n      <td>4.185738</td>\n      <td>4.653183</td>\n    </tr>\n    <tr>\n      <th>1338</th>\n      <td>3.107593</td>\n      <td>3.252981</td>\n      <td>2.765983</td>\n      <td>3.941231</td>\n      <td>4.370182</td>\n      <td>3.588746</td>\n      <td>2.553835</td>\n      <td>3.831107</td>\n      <td>3.079155</td>\n      <td>3.735458</td>\n      <td>...</td>\n      <td>3.318310</td>\n      <td>3.036486</td>\n      <td>4.603397</td>\n      <td>2.359532</td>\n      <td>3.745549</td>\n      <td>2.854896</td>\n      <td>2.573550</td>\n      <td>3.713430</td>\n      <td>3.219836</td>\n      <td>4.560983</td>\n    </tr>\n    <tr>\n      <th>1339</th>\n      <td>3.006012</td>\n      <td>3.895520</td>\n      <td>4.241758</td>\n      <td>2.845791</td>\n      <td>5.028035</td>\n      <td>3.925111</td>\n      <td>2.701851</td>\n      <td>3.440524</td>\n      <td>2.851184</td>\n      <td>3.561110</td>\n      <td>...</td>\n      <td>3.991698</td>\n      <td>3.926734</td>\n      <td>4.758273</td>\n      <td>3.742675</td>\n      <td>3.775186</td>\n      <td>4.169005</td>\n      <td>3.242388</td>\n      <td>3.062944</td>\n      <td>3.324450</td>\n      <td>3.851436</td>\n    </tr>\n    <tr>\n      <th>1340</th>\n      <td>3.520503</td>\n      <td>3.065695</td>\n      <td>4.195328</td>\n      <td>2.632923</td>\n      <td>4.841404</td>\n      <td>2.751479</td>\n      <td>2.655208</td>\n      <td>3.266983</td>\n      <td>1.999800</td>\n      <td>4.114881</td>\n      <td>...</td>\n      <td>3.706350</td>\n      <td>4.165103</td>\n      <td>4.986201</td>\n      <td>3.432314</td>\n      <td>3.192564</td>\n      <td>2.627454</td>\n      <td>3.310305</td>\n      <td>3.944461</td>\n      <td>3.173165</td>\n      <td>3.351204</td>\n    </tr>\n    <tr>\n      <th>1341</th>\n      <td>5.092457</td>\n      <td>3.435837</td>\n      <td>1.597586</td>\n      <td>1.875188</td>\n      <td>4.924810</td>\n      <td>2.014482</td>\n      <td>5.861706</td>\n      <td>3.479356</td>\n      <td>3.277355</td>\n      <td>6.239469</td>\n      <td>...</td>\n      <td>3.731213</td>\n      <td>4.150439</td>\n      <td>4.869679</td>\n      <td>3.359680</td>\n      <td>3.864292</td>\n      <td>4.820032</td>\n      <td>3.587594</td>\n      <td>2.432933</td>\n      <td>2.781824</td>\n      <td>2.637487</td>\n    </tr>\n  </tbody>\n</table>\n<p>1342 rows × 143458 columns</p>\n</div>"
     },
     "execution_count": 132,
     "metadata": {},
     "output_type": "execute_result"
    }
   ],
   "source": [
    "pd.DataFrame((nmf_run[1] @ nmf_run[0].t()).detach().numpy())"
   ],
   "metadata": {
    "collapsed": false,
    "ExecuteTime": {
     "end_time": "2023-06-04T09:27:41.413480Z",
     "start_time": "2023-06-04T09:27:41.297490Z"
    }
   }
  },
  {
   "cell_type": "code",
   "execution_count": 166,
   "outputs": [],
   "source": [
    "def get_unseen_movies(ratings_matrix, userId):\n",
    "    user_rating = ratings_matrix.loc[userId, :]\n",
    "    already_seen = user_rating[user_rating > 0].index.tolist()\n",
    "    movies_list = ratings_matrix.columns.tolist()\n",
    "    unseen_list = [movie for movie in movies_list if movie not in already_seen]\n",
    "    return unseen_list"
   ],
   "metadata": {
    "collapsed": false,
    "ExecuteTime": {
     "end_time": "2023-06-04T10:02:08.776915Z",
     "start_time": "2023-06-04T10:02:08.772249Z"
    }
   }
  },
  {
   "cell_type": "code",
   "execution_count": 176,
   "outputs": [],
   "source": [
    "def recommend_movie_by_userid(prd_df, userId, unseen_list, top_n=10):\n",
    "    recommend_movies = prd_df.loc[userId, unseen_list].sort_values(ascending=False)[:top_n]\n",
    "    return recommend_movies"
   ],
   "metadata": {
    "collapsed": false,
    "ExecuteTime": {
     "end_time": "2023-06-04T11:46:41.976870Z",
     "start_time": "2023-06-04T11:46:41.973488Z"
    }
   }
  },
  {
   "cell_type": "code",
   "execution_count": 177,
   "outputs": [],
   "source": [
    "unseen_movies = get_unseen_movies(ratings_matrix, 6)"
   ],
   "metadata": {
    "collapsed": false,
    "ExecuteTime": {
     "end_time": "2023-06-04T11:46:42.549454Z",
     "start_time": "2023-06-04T11:46:42.525547Z"
    }
   }
  },
  {
   "cell_type": "code",
   "execution_count": 178,
   "outputs": [],
   "source": [
    "prd_df = pd.DataFrame((nmf_run[1] @ nmf_run[0].t()).detach().numpy())\n",
    "prd_df.columns = ratings_matrix.index\n",
    "prd_df.index = ratings_matrix.columns"
   ],
   "metadata": {
    "collapsed": false,
    "ExecuteTime": {
     "end_time": "2023-06-04T11:46:43.078257Z",
     "start_time": "2023-06-04T11:46:42.904102Z"
    }
   }
  },
  {
   "cell_type": "code",
   "execution_count": 181,
   "outputs": [
    {
     "ename": "KeyError",
     "evalue": "6",
     "output_type": "error",
     "traceback": [
      "\u001B[0;31m---------------------------------------------------------------------------\u001B[0m",
      "\u001B[0;31mKeyError\u001B[0m                                  Traceback (most recent call last)",
      "File \u001B[0;32m/opt/anaconda3/lib/python3.9/site-packages/pandas/core/indexes/base.py:3629\u001B[0m, in \u001B[0;36mIndex.get_loc\u001B[0;34m(self, key, method, tolerance)\u001B[0m\n\u001B[1;32m   3628\u001B[0m \u001B[38;5;28;01mtry\u001B[39;00m:\n\u001B[0;32m-> 3629\u001B[0m     \u001B[38;5;28;01mreturn\u001B[39;00m \u001B[38;5;28;43mself\u001B[39;49m\u001B[38;5;241;43m.\u001B[39;49m\u001B[43m_engine\u001B[49m\u001B[38;5;241;43m.\u001B[39;49m\u001B[43mget_loc\u001B[49m\u001B[43m(\u001B[49m\u001B[43mcasted_key\u001B[49m\u001B[43m)\u001B[49m\n\u001B[1;32m   3630\u001B[0m \u001B[38;5;28;01mexcept\u001B[39;00m \u001B[38;5;167;01mKeyError\u001B[39;00m \u001B[38;5;28;01mas\u001B[39;00m err:\n",
      "File \u001B[0;32m/opt/anaconda3/lib/python3.9/site-packages/pandas/_libs/index.pyx:136\u001B[0m, in \u001B[0;36mpandas._libs.index.IndexEngine.get_loc\u001B[0;34m()\u001B[0m\n",
      "File \u001B[0;32m/opt/anaconda3/lib/python3.9/site-packages/pandas/_libs/index.pyx:163\u001B[0m, in \u001B[0;36mpandas._libs.index.IndexEngine.get_loc\u001B[0;34m()\u001B[0m\n",
      "File \u001B[0;32mpandas/_libs/hashtable_class_helper.pxi:5198\u001B[0m, in \u001B[0;36mpandas._libs.hashtable.PyObjectHashTable.get_item\u001B[0;34m()\u001B[0m\n",
      "File \u001B[0;32mpandas/_libs/hashtable_class_helper.pxi:5206\u001B[0m, in \u001B[0;36mpandas._libs.hashtable.PyObjectHashTable.get_item\u001B[0;34m()\u001B[0m\n",
      "\u001B[0;31mKeyError\u001B[0m: 6",
      "\nThe above exception was the direct cause of the following exception:\n",
      "\u001B[0;31mKeyError\u001B[0m                                  Traceback (most recent call last)",
      "Input \u001B[0;32mIn [181]\u001B[0m, in \u001B[0;36m<cell line: 1>\u001B[0;34m()\u001B[0m\n\u001B[0;32m----> 1\u001B[0m \u001B[43mrecommend_movie_by_userid\u001B[49m\u001B[43m(\u001B[49m\u001B[43mprd_df\u001B[49m\u001B[43m,\u001B[49m\u001B[43m \u001B[49m\u001B[38;5;241;43m6\u001B[39;49m\u001B[43m,\u001B[49m\u001B[43m \u001B[49m\u001B[43munseen_movies\u001B[49m\u001B[43m,\u001B[49m\u001B[43m \u001B[49m\u001B[43mtop_n\u001B[49m\u001B[38;5;241;43m=\u001B[39;49m\u001B[38;5;241;43m10\u001B[39;49m\u001B[43m)\u001B[49m\n",
      "Input \u001B[0;32mIn [176]\u001B[0m, in \u001B[0;36mrecommend_movie_by_userid\u001B[0;34m(prd_df, userId, unseen_list, top_n)\u001B[0m\n\u001B[1;32m      1\u001B[0m \u001B[38;5;28;01mdef\u001B[39;00m \u001B[38;5;21mrecommend_movie_by_userid\u001B[39m(prd_df, userId, unseen_list, top_n\u001B[38;5;241m=\u001B[39m\u001B[38;5;241m10\u001B[39m):\n\u001B[0;32m----> 2\u001B[0m     recommend_movies \u001B[38;5;241m=\u001B[39m \u001B[43mprd_df\u001B[49m\u001B[38;5;241;43m.\u001B[39;49m\u001B[43mloc\u001B[49m\u001B[43m[\u001B[49m\u001B[43muserId\u001B[49m\u001B[43m,\u001B[49m\u001B[43m \u001B[49m\u001B[43munseen_list\u001B[49m\u001B[43m]\u001B[49m\u001B[38;5;241m.\u001B[39msort_values(ascending\u001B[38;5;241m=\u001B[39m\u001B[38;5;28;01mFalse\u001B[39;00m)[:top_n]\n\u001B[1;32m      3\u001B[0m     \u001B[38;5;28;01mreturn\u001B[39;00m recommend_movies\n",
      "File \u001B[0;32m/opt/anaconda3/lib/python3.9/site-packages/pandas/core/indexing.py:961\u001B[0m, in \u001B[0;36m_LocationIndexer.__getitem__\u001B[0;34m(self, key)\u001B[0m\n\u001B[1;32m    959\u001B[0m     \u001B[38;5;28;01mif\u001B[39;00m \u001B[38;5;28mself\u001B[39m\u001B[38;5;241m.\u001B[39m_is_scalar_access(key):\n\u001B[1;32m    960\u001B[0m         \u001B[38;5;28;01mreturn\u001B[39;00m \u001B[38;5;28mself\u001B[39m\u001B[38;5;241m.\u001B[39mobj\u001B[38;5;241m.\u001B[39m_get_value(\u001B[38;5;241m*\u001B[39mkey, takeable\u001B[38;5;241m=\u001B[39m\u001B[38;5;28mself\u001B[39m\u001B[38;5;241m.\u001B[39m_takeable)\n\u001B[0;32m--> 961\u001B[0m     \u001B[38;5;28;01mreturn\u001B[39;00m \u001B[38;5;28;43mself\u001B[39;49m\u001B[38;5;241;43m.\u001B[39;49m\u001B[43m_getitem_tuple\u001B[49m\u001B[43m(\u001B[49m\u001B[43mkey\u001B[49m\u001B[43m)\u001B[49m\n\u001B[1;32m    962\u001B[0m \u001B[38;5;28;01melse\u001B[39;00m:\n\u001B[1;32m    963\u001B[0m     \u001B[38;5;66;03m# we by definition only have the 0th axis\u001B[39;00m\n\u001B[1;32m    964\u001B[0m     axis \u001B[38;5;241m=\u001B[39m \u001B[38;5;28mself\u001B[39m\u001B[38;5;241m.\u001B[39maxis \u001B[38;5;129;01mor\u001B[39;00m \u001B[38;5;241m0\u001B[39m\n",
      "File \u001B[0;32m/opt/anaconda3/lib/python3.9/site-packages/pandas/core/indexing.py:1140\u001B[0m, in \u001B[0;36m_LocIndexer._getitem_tuple\u001B[0;34m(self, tup)\u001B[0m\n\u001B[1;32m   1138\u001B[0m \u001B[38;5;28;01mwith\u001B[39;00m suppress(IndexingError):\n\u001B[1;32m   1139\u001B[0m     tup \u001B[38;5;241m=\u001B[39m \u001B[38;5;28mself\u001B[39m\u001B[38;5;241m.\u001B[39m_expand_ellipsis(tup)\n\u001B[0;32m-> 1140\u001B[0m     \u001B[38;5;28;01mreturn\u001B[39;00m \u001B[38;5;28;43mself\u001B[39;49m\u001B[38;5;241;43m.\u001B[39;49m\u001B[43m_getitem_lowerdim\u001B[49m\u001B[43m(\u001B[49m\u001B[43mtup\u001B[49m\u001B[43m)\u001B[49m\n\u001B[1;32m   1142\u001B[0m \u001B[38;5;66;03m# no multi-index, so validate all of the indexers\u001B[39;00m\n\u001B[1;32m   1143\u001B[0m tup \u001B[38;5;241m=\u001B[39m \u001B[38;5;28mself\u001B[39m\u001B[38;5;241m.\u001B[39m_validate_tuple_indexer(tup)\n",
      "File \u001B[0;32m/opt/anaconda3/lib/python3.9/site-packages/pandas/core/indexing.py:867\u001B[0m, in \u001B[0;36m_LocationIndexer._getitem_lowerdim\u001B[0;34m(self, tup)\u001B[0m\n\u001B[1;32m    863\u001B[0m \u001B[38;5;28;01mfor\u001B[39;00m i, key \u001B[38;5;129;01min\u001B[39;00m \u001B[38;5;28menumerate\u001B[39m(tup):\n\u001B[1;32m    864\u001B[0m     \u001B[38;5;28;01mif\u001B[39;00m is_label_like(key):\n\u001B[1;32m    865\u001B[0m         \u001B[38;5;66;03m# We don't need to check for tuples here because those are\u001B[39;00m\n\u001B[1;32m    866\u001B[0m         \u001B[38;5;66;03m#  caught by the _is_nested_tuple_indexer check above.\u001B[39;00m\n\u001B[0;32m--> 867\u001B[0m         section \u001B[38;5;241m=\u001B[39m \u001B[38;5;28;43mself\u001B[39;49m\u001B[38;5;241;43m.\u001B[39;49m\u001B[43m_getitem_axis\u001B[49m\u001B[43m(\u001B[49m\u001B[43mkey\u001B[49m\u001B[43m,\u001B[49m\u001B[43m \u001B[49m\u001B[43maxis\u001B[49m\u001B[38;5;241;43m=\u001B[39;49m\u001B[43mi\u001B[49m\u001B[43m)\u001B[49m\n\u001B[1;32m    869\u001B[0m         \u001B[38;5;66;03m# We should never have a scalar section here, because\u001B[39;00m\n\u001B[1;32m    870\u001B[0m         \u001B[38;5;66;03m#  _getitem_lowerdim is only called after a check for\u001B[39;00m\n\u001B[1;32m    871\u001B[0m         \u001B[38;5;66;03m#  is_scalar_access, which that would be.\u001B[39;00m\n\u001B[1;32m    872\u001B[0m         \u001B[38;5;28;01mif\u001B[39;00m section\u001B[38;5;241m.\u001B[39mndim \u001B[38;5;241m==\u001B[39m \u001B[38;5;28mself\u001B[39m\u001B[38;5;241m.\u001B[39mndim:\n\u001B[1;32m    873\u001B[0m             \u001B[38;5;66;03m# we're in the middle of slicing through a MultiIndex\u001B[39;00m\n\u001B[1;32m    874\u001B[0m             \u001B[38;5;66;03m# revise the key wrt to `section` by inserting an _NS\u001B[39;00m\n",
      "File \u001B[0;32m/opt/anaconda3/lib/python3.9/site-packages/pandas/core/indexing.py:1205\u001B[0m, in \u001B[0;36m_LocIndexer._getitem_axis\u001B[0;34m(self, key, axis)\u001B[0m\n\u001B[1;32m   1203\u001B[0m \u001B[38;5;66;03m# fall thru to straight lookup\u001B[39;00m\n\u001B[1;32m   1204\u001B[0m \u001B[38;5;28mself\u001B[39m\u001B[38;5;241m.\u001B[39m_validate_key(key, axis)\n\u001B[0;32m-> 1205\u001B[0m \u001B[38;5;28;01mreturn\u001B[39;00m \u001B[38;5;28;43mself\u001B[39;49m\u001B[38;5;241;43m.\u001B[39;49m\u001B[43m_get_label\u001B[49m\u001B[43m(\u001B[49m\u001B[43mkey\u001B[49m\u001B[43m,\u001B[49m\u001B[43m \u001B[49m\u001B[43maxis\u001B[49m\u001B[38;5;241;43m=\u001B[39;49m\u001B[43maxis\u001B[49m\u001B[43m)\u001B[49m\n",
      "File \u001B[0;32m/opt/anaconda3/lib/python3.9/site-packages/pandas/core/indexing.py:1153\u001B[0m, in \u001B[0;36m_LocIndexer._get_label\u001B[0;34m(self, label, axis)\u001B[0m\n\u001B[1;32m   1151\u001B[0m \u001B[38;5;28;01mdef\u001B[39;00m \u001B[38;5;21m_get_label\u001B[39m(\u001B[38;5;28mself\u001B[39m, label, axis: \u001B[38;5;28mint\u001B[39m):\n\u001B[1;32m   1152\u001B[0m     \u001B[38;5;66;03m# GH#5667 this will fail if the label is not present in the axis.\u001B[39;00m\n\u001B[0;32m-> 1153\u001B[0m     \u001B[38;5;28;01mreturn\u001B[39;00m \u001B[38;5;28;43mself\u001B[39;49m\u001B[38;5;241;43m.\u001B[39;49m\u001B[43mobj\u001B[49m\u001B[38;5;241;43m.\u001B[39;49m\u001B[43mxs\u001B[49m\u001B[43m(\u001B[49m\u001B[43mlabel\u001B[49m\u001B[43m,\u001B[49m\u001B[43m \u001B[49m\u001B[43maxis\u001B[49m\u001B[38;5;241;43m=\u001B[39;49m\u001B[43maxis\u001B[49m\u001B[43m)\u001B[49m\n",
      "File \u001B[0;32m/opt/anaconda3/lib/python3.9/site-packages/pandas/core/generic.py:3864\u001B[0m, in \u001B[0;36mNDFrame.xs\u001B[0;34m(self, key, axis, level, drop_level)\u001B[0m\n\u001B[1;32m   3862\u001B[0m             new_index \u001B[38;5;241m=\u001B[39m index[loc]\n\u001B[1;32m   3863\u001B[0m \u001B[38;5;28;01melse\u001B[39;00m:\n\u001B[0;32m-> 3864\u001B[0m     loc \u001B[38;5;241m=\u001B[39m \u001B[43mindex\u001B[49m\u001B[38;5;241;43m.\u001B[39;49m\u001B[43mget_loc\u001B[49m\u001B[43m(\u001B[49m\u001B[43mkey\u001B[49m\u001B[43m)\u001B[49m\n\u001B[1;32m   3866\u001B[0m     \u001B[38;5;28;01mif\u001B[39;00m \u001B[38;5;28misinstance\u001B[39m(loc, np\u001B[38;5;241m.\u001B[39mndarray):\n\u001B[1;32m   3867\u001B[0m         \u001B[38;5;28;01mif\u001B[39;00m loc\u001B[38;5;241m.\u001B[39mdtype \u001B[38;5;241m==\u001B[39m np\u001B[38;5;241m.\u001B[39mbool_:\n",
      "File \u001B[0;32m/opt/anaconda3/lib/python3.9/site-packages/pandas/core/indexes/base.py:3631\u001B[0m, in \u001B[0;36mIndex.get_loc\u001B[0;34m(self, key, method, tolerance)\u001B[0m\n\u001B[1;32m   3629\u001B[0m     \u001B[38;5;28;01mreturn\u001B[39;00m \u001B[38;5;28mself\u001B[39m\u001B[38;5;241m.\u001B[39m_engine\u001B[38;5;241m.\u001B[39mget_loc(casted_key)\n\u001B[1;32m   3630\u001B[0m \u001B[38;5;28;01mexcept\u001B[39;00m \u001B[38;5;167;01mKeyError\u001B[39;00m \u001B[38;5;28;01mas\u001B[39;00m err:\n\u001B[0;32m-> 3631\u001B[0m     \u001B[38;5;28;01mraise\u001B[39;00m \u001B[38;5;167;01mKeyError\u001B[39;00m(key) \u001B[38;5;28;01mfrom\u001B[39;00m \u001B[38;5;21;01merr\u001B[39;00m\n\u001B[1;32m   3632\u001B[0m \u001B[38;5;28;01mexcept\u001B[39;00m \u001B[38;5;167;01mTypeError\u001B[39;00m:\n\u001B[1;32m   3633\u001B[0m     \u001B[38;5;66;03m# If we have a listlike key, _check_indexing_error will raise\u001B[39;00m\n\u001B[1;32m   3634\u001B[0m     \u001B[38;5;66;03m#  InvalidIndexError. Otherwise we fall through and re-raise\u001B[39;00m\n\u001B[1;32m   3635\u001B[0m     \u001B[38;5;66;03m#  the TypeError.\u001B[39;00m\n\u001B[1;32m   3636\u001B[0m     \u001B[38;5;28mself\u001B[39m\u001B[38;5;241m.\u001B[39m_check_indexing_error(key)\n",
      "\u001B[0;31mKeyError\u001B[0m: 6"
     ]
    }
   ],
   "source": [
    "recommend_movie_by_userid(prd_df, 6, unseen_movies, top_n=10)"
   ],
   "metadata": {
    "collapsed": false,
    "ExecuteTime": {
     "end_time": "2023-06-04T11:46:53.120492Z",
     "start_time": "2023-06-04T11:46:53.082823Z"
    }
   }
  },
  {
   "cell_type": "markdown",
   "source": [],
   "metadata": {
    "collapsed": false
   }
  }
 ],
 "metadata": {
  "kernelspec": {
   "display_name": "Python 3",
   "language": "python",
   "name": "python3"
  },
  "language_info": {
   "codemirror_mode": {
    "name": "ipython",
    "version": 2
   },
   "file_extension": ".py",
   "mimetype": "text/x-python",
   "name": "python",
   "nbconvert_exporter": "python",
   "pygments_lexer": "ipython2",
   "version": "2.7.6"
  }
 },
 "nbformat": 4,
 "nbformat_minor": 0
}
