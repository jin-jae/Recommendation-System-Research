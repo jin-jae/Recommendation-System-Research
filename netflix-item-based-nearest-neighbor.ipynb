{
 "cells": [
  {
   "cell_type": "code",
   "execution_count": 1,
   "metadata": {
    "collapsed": true,
    "ExecuteTime": {
     "end_time": "2023-06-18T05:47:03.132702Z",
     "start_time": "2023-06-18T05:47:00.626228Z"
    }
   },
   "outputs": [],
   "source": [
    "import pandas as pd\n",
    "import numpy as np\n",
    "from sklearn.metrics import mean_squared_error, r2_score\n",
    "from sklearn.metrics.pairwise import cosine_similarity"
   ]
  },
  {
   "cell_type": "code",
   "execution_count": 2,
   "outputs": [],
   "source": [
    "# 사용자가 평점을 부여한 영화에 한해서 예측 성능 평가를 함\n",
    "def get_evaluation(prd, actual):\n",
    "    # ignore nonzero\n",
    "    prd = prd[actual.nonzero()].flatten()\n",
    "    actual = actual[actual.nonzero()].flatten()\n",
    "    return mean_squared_error(prd, actual), r2_score(prd, actual)"
   ],
   "metadata": {
    "collapsed": false,
    "ExecuteTime": {
     "end_time": "2023-06-18T05:47:03.718155Z",
     "start_time": "2023-06-18T05:47:03.704960Z"
    }
   }
  },
  {
   "cell_type": "code",
   "execution_count": 3,
   "outputs": [],
   "source": [
    "# 아이템 기반의 협업 필터링에서 개인화된 예측 평점 도출 공식\n",
    "def predict_rating(ratings_arr, item_sim_arr):\n",
    "    ratings_prd = ratings_arr.dot(item_sim_arr) / np.sum(np.abs(item_sim_arr))\n",
    "    return ratings_prd"
   ],
   "metadata": {
    "collapsed": false,
    "ExecuteTime": {
     "end_time": "2023-06-18T05:47:04.214978Z",
     "start_time": "2023-06-18T05:47:04.202655Z"
    }
   }
  },
  {
   "cell_type": "code",
   "execution_count": 17,
   "outputs": [],
   "source": [
    "def predict_rating_topsim(ratings_arr, item_sim_arr, n=20):\n",
    "    # 예측 행렬 0으로 초기화\n",
    "    prd = np.zeros(ratings_arr.shape)\n",
    "    print(\"### predict_rating_topsim - ratings_arr ###\\n\", ratings_arr, \"\\n\", ratings_arr.shape)\n",
    "    print(\"### predict_rating_topsim - item_sim_arr ###\\n\", item_sim_arr, \"\\n\", item_sim_arr.shape)\n",
    "\n",
    "    # 사용자-아이템 평점 행렬 열 크기만큼 반복\n",
    "    for col in range(ratings_arr.shape[1]):\n",
    "        top_n_items = [np.argsort(item_sim_arr[:, col])[:-n-1:-1]]\n",
    "        # 개인화된 평점 계산\n",
    "        for row in range(ratings_arr.shape[0]):\n",
    "            ratings_prd = predict_rating(ratings_arr[row, :][top_n_items].T, item_sim_arr[col, :][top_n_items])\n",
    "            prd[row, col] = ratings_prd\n",
    "        if col % 10 == 0:\n",
    "            print(\"# predict_rating_topsim:\", col, \"/\", ratings_arr.shape[1])\n",
    "    return prd"
   ],
   "metadata": {
    "collapsed": false,
    "ExecuteTime": {
     "end_time": "2023-06-18T05:51:50.845202Z",
     "start_time": "2023-06-18T05:51:50.842751Z"
    }
   }
  },
  {
   "cell_type": "code",
   "execution_count": 5,
   "outputs": [],
   "source": [
    "def get_unseen_movies(ratings_matrix, userId):\n",
    "    user_rating = ratings_matrix.loc[userId, :]\n",
    "    already_seen = user_rating[user_rating > 0].index.tolist()\n",
    "    movies_list = ratings_matrix.columns.tolist()\n",
    "    unseen_list = [movie for movie in movies_list if movie not in already_seen]\n",
    "    return unseen_list"
   ],
   "metadata": {
    "collapsed": false,
    "ExecuteTime": {
     "end_time": "2023-06-18T05:47:05.751189Z",
     "start_time": "2023-06-18T05:47:05.742819Z"
    }
   }
  },
  {
   "cell_type": "code",
   "execution_count": 6,
   "outputs": [],
   "source": [
    "def recomm_movie_by_userid(pred_df, userId, unseen_list, top_n=10):\n",
    "    recomm_movies = pred_df.loc[userId, unseen_list].sort_values(ascending=False)[:top_n]\n",
    "    return recomm_movies"
   ],
   "metadata": {
    "collapsed": false,
    "ExecuteTime": {
     "end_time": "2023-06-18T05:47:06.414796Z",
     "start_time": "2023-06-18T05:47:06.405019Z"
    }
   }
  },
  {
   "cell_type": "code",
   "execution_count": 9,
   "outputs": [],
   "source": [
    "# movies 는 movieId, title, genres 를 column 으로 가지고 있음\n",
    "movies = pd.read_csv('dataset/netflix/Netflix_Dataset_Movie.csv')\n",
    "# ratings 는 userId, movieId, rating, timestamp 를 column 으로 가지고 있음\n",
    "ratings = pd.read_csv('dataset/netflix/Netflix_Dataset_Rating.csv')\n",
    "\n",
    "ratings = ratings[['User_ID', 'Movie_ID', 'Rating']]\n",
    "\n",
    "# # ratings_matrix 는 movieId에 대해 userId가 평가한 이력을 담은 pandas DataFrame\n",
    "# ratings_matrixee = ratings.pivot_table(\"rating\", index=\"userId\", columns=\"movieId\")\n",
    "# print(ratings_matrix.head())\n",
    "\n",
    "# 영화 제목에 대한 유저들의 평가를 적어둔 행렬 반환을 위해 merge (JOIN) 작업 수행\n",
    "rating_movies = pd.merge(ratings, movies, on='Movie_ID')\n",
    "\n",
    "# userId와 영화 제목을 pivot 해서 추천 예측을 위한 행렬 생성. NaN (null) 값은 0으로 채움.\n",
    "ratings_matrix = rating_movies.pivot_table('Rating', index='User_ID', columns='Name')\n",
    "ratings_matrix = ratings_matrix.fillna(0)"
   ],
   "metadata": {
    "collapsed": false,
    "ExecuteTime": {
     "end_time": "2023-06-18T05:47:52.200485Z",
     "start_time": "2023-06-18T05:47:36.714318Z"
    }
   }
  },
  {
   "cell_type": "code",
   "execution_count": 10,
   "outputs": [
    {
     "data": {
      "text/plain": "Name      10  10 Things I Hate About You  \\\nUser_ID                                    \n6        0.0                         0.0   \n7        0.0                         0.0   \n79       0.0                         0.0   \n97       0.0                         0.0   \n134      0.0                         5.0   \n...      ...                         ...   \n2649370  0.0                         0.0   \n2649378  0.0                         0.0   \n2649388  0.0                         0.0   \n2649426  0.0                         0.0   \n2649429  0.0                         0.0   \n\nName     101 Dalmatians II: Patch's London Adventure  11:14  13 Ghosts  \\\nUser_ID                                                                  \n6                                                0.0    0.0        0.0   \n7                                                0.0    0.0        0.0   \n79                                               3.0    0.0        0.0   \n97                                               0.0    0.0        0.0   \n134                                              0.0    0.0        0.0   \n...                                              ...    ...        ...   \n2649370                                          0.0    0.0        0.0   \n2649378                                          0.0    0.0        0.0   \n2649388                                          0.0    0.0        0.0   \n2649426                                          0.0    0.0        0.0   \n2649429                                          0.0    0.0        0.0   \n\nName     18 Again  1984  2 Fast 2 Furious  200 Cigarettes  \\\nUser_ID                                                     \n6             0.0   4.0               0.0             0.0   \n7             0.0   0.0               3.0             0.0   \n79            0.0   0.0               2.0             0.0   \n97            0.0   0.0               0.0             0.0   \n134           0.0   0.0               5.0             0.0   \n...           ...   ...               ...             ...   \n2649370       0.0   0.0               0.0             0.0   \n2649378       0.0   0.0               0.0             0.0   \n2649388       0.0   0.0               0.0             0.0   \n2649426       0.0   0.0               0.0             0.0   \n2649429       0.0   0.0               0.0             0.0   \n\nName     2010: The Year We Make Contact  ...  \\\nUser_ID                                  ...   \n6                                   0.0  ...   \n7                                   0.0  ...   \n79                                  0.0  ...   \n97                                  0.0  ...   \n134                                 0.0  ...   \n...                                 ...  ...   \n2649370                             0.0  ...   \n2649378                             0.0  ...   \n2649388                             0.0  ...   \n2649426                             0.0  ...   \n2649429                             0.0  ...   \n\nName     Xena: Warrior Princess: Season 3  \\\nUser_ID                                     \n6                                     0.0   \n7                                     0.0   \n79                                    0.0   \n97                                    0.0   \n134                                   0.0   \n...                                   ...   \n2649370                               0.0   \n2649378                               0.0   \n2649388                               0.0   \n2649426                               0.0   \n2649429                               0.0   \n\nName     Xena: Warrior Princess: Series Finale  Y Tu Mama Tambien  \\\nUser_ID                                                             \n6                                          0.0                0.0   \n7                                          0.0                0.0   \n79                                         0.0                0.0   \n97                                         3.0                0.0   \n134                                        0.0                0.0   \n...                                        ...                ...   \n2649370                                    0.0                0.0   \n2649378                                    0.0                0.0   \n2649388                                    0.0                1.0   \n2649426                                    0.0                4.0   \n2649429                                    0.0                0.0   \n\nName     Yellow Submarine  Yi Yi  Yojimbo  Young Black Stallion  Youngblood  \\\nUser_ID                                                                       \n6                     0.0    0.0      0.0                   0.0         0.0   \n7                     0.0    0.0      0.0                   0.0         0.0   \n79                    0.0    0.0      0.0                   0.0         0.0   \n97                    0.0    0.0      0.0                   0.0         0.0   \n134                   0.0    0.0      0.0                   0.0         0.0   \n...                   ...    ...      ...                   ...         ...   \n2649370               0.0    0.0      0.0                   0.0         0.0   \n2649378               0.0    0.0      3.0                   0.0         0.0   \n2649388               0.0    0.0      0.0                   0.0         0.0   \n2649426               0.0    0.0      0.0                   0.0         0.0   \n2649429               0.0    0.0      0.0                   0.0         0.0   \n\nName     Yu-Gi-Oh!: The Movie  Zorro  \nUser_ID                               \n6                         0.0    0.0  \n7                         0.0    0.0  \n79                        3.0    0.0  \n97                        0.0    0.0  \n134                       0.0    0.0  \n...                       ...    ...  \n2649370                   4.0    0.0  \n2649378                   0.0    0.0  \n2649388                   0.0    0.0  \n2649426                   0.0    0.0  \n2649429                   0.0    0.0  \n\n[143458 rows x 1342 columns]",
      "text/html": "<div>\n<style scoped>\n    .dataframe tbody tr th:only-of-type {\n        vertical-align: middle;\n    }\n\n    .dataframe tbody tr th {\n        vertical-align: top;\n    }\n\n    .dataframe thead th {\n        text-align: right;\n    }\n</style>\n<table border=\"1\" class=\"dataframe\">\n  <thead>\n    <tr style=\"text-align: right;\">\n      <th>Name</th>\n      <th>10</th>\n      <th>10 Things I Hate About You</th>\n      <th>101 Dalmatians II: Patch's London Adventure</th>\n      <th>11:14</th>\n      <th>13 Ghosts</th>\n      <th>18 Again</th>\n      <th>1984</th>\n      <th>2 Fast 2 Furious</th>\n      <th>200 Cigarettes</th>\n      <th>2010: The Year We Make Contact</th>\n      <th>...</th>\n      <th>Xena: Warrior Princess: Season 3</th>\n      <th>Xena: Warrior Princess: Series Finale</th>\n      <th>Y Tu Mama Tambien</th>\n      <th>Yellow Submarine</th>\n      <th>Yi Yi</th>\n      <th>Yojimbo</th>\n      <th>Young Black Stallion</th>\n      <th>Youngblood</th>\n      <th>Yu-Gi-Oh!: The Movie</th>\n      <th>Zorro</th>\n    </tr>\n    <tr>\n      <th>User_ID</th>\n      <th></th>\n      <th></th>\n      <th></th>\n      <th></th>\n      <th></th>\n      <th></th>\n      <th></th>\n      <th></th>\n      <th></th>\n      <th></th>\n      <th></th>\n      <th></th>\n      <th></th>\n      <th></th>\n      <th></th>\n      <th></th>\n      <th></th>\n      <th></th>\n      <th></th>\n      <th></th>\n      <th></th>\n    </tr>\n  </thead>\n  <tbody>\n    <tr>\n      <th>6</th>\n      <td>0.0</td>\n      <td>0.0</td>\n      <td>0.0</td>\n      <td>0.0</td>\n      <td>0.0</td>\n      <td>0.0</td>\n      <td>4.0</td>\n      <td>0.0</td>\n      <td>0.0</td>\n      <td>0.0</td>\n      <td>...</td>\n      <td>0.0</td>\n      <td>0.0</td>\n      <td>0.0</td>\n      <td>0.0</td>\n      <td>0.0</td>\n      <td>0.0</td>\n      <td>0.0</td>\n      <td>0.0</td>\n      <td>0.0</td>\n      <td>0.0</td>\n    </tr>\n    <tr>\n      <th>7</th>\n      <td>0.0</td>\n      <td>0.0</td>\n      <td>0.0</td>\n      <td>0.0</td>\n      <td>0.0</td>\n      <td>0.0</td>\n      <td>0.0</td>\n      <td>3.0</td>\n      <td>0.0</td>\n      <td>0.0</td>\n      <td>...</td>\n      <td>0.0</td>\n      <td>0.0</td>\n      <td>0.0</td>\n      <td>0.0</td>\n      <td>0.0</td>\n      <td>0.0</td>\n      <td>0.0</td>\n      <td>0.0</td>\n      <td>0.0</td>\n      <td>0.0</td>\n    </tr>\n    <tr>\n      <th>79</th>\n      <td>0.0</td>\n      <td>0.0</td>\n      <td>3.0</td>\n      <td>0.0</td>\n      <td>0.0</td>\n      <td>0.0</td>\n      <td>0.0</td>\n      <td>2.0</td>\n      <td>0.0</td>\n      <td>0.0</td>\n      <td>...</td>\n      <td>0.0</td>\n      <td>0.0</td>\n      <td>0.0</td>\n      <td>0.0</td>\n      <td>0.0</td>\n      <td>0.0</td>\n      <td>0.0</td>\n      <td>0.0</td>\n      <td>3.0</td>\n      <td>0.0</td>\n    </tr>\n    <tr>\n      <th>97</th>\n      <td>0.0</td>\n      <td>0.0</td>\n      <td>0.0</td>\n      <td>0.0</td>\n      <td>0.0</td>\n      <td>0.0</td>\n      <td>0.0</td>\n      <td>0.0</td>\n      <td>0.0</td>\n      <td>0.0</td>\n      <td>...</td>\n      <td>0.0</td>\n      <td>3.0</td>\n      <td>0.0</td>\n      <td>0.0</td>\n      <td>0.0</td>\n      <td>0.0</td>\n      <td>0.0</td>\n      <td>0.0</td>\n      <td>0.0</td>\n      <td>0.0</td>\n    </tr>\n    <tr>\n      <th>134</th>\n      <td>0.0</td>\n      <td>5.0</td>\n      <td>0.0</td>\n      <td>0.0</td>\n      <td>0.0</td>\n      <td>0.0</td>\n      <td>0.0</td>\n      <td>5.0</td>\n      <td>0.0</td>\n      <td>0.0</td>\n      <td>...</td>\n      <td>0.0</td>\n      <td>0.0</td>\n      <td>0.0</td>\n      <td>0.0</td>\n      <td>0.0</td>\n      <td>0.0</td>\n      <td>0.0</td>\n      <td>0.0</td>\n      <td>0.0</td>\n      <td>0.0</td>\n    </tr>\n    <tr>\n      <th>...</th>\n      <td>...</td>\n      <td>...</td>\n      <td>...</td>\n      <td>...</td>\n      <td>...</td>\n      <td>...</td>\n      <td>...</td>\n      <td>...</td>\n      <td>...</td>\n      <td>...</td>\n      <td>...</td>\n      <td>...</td>\n      <td>...</td>\n      <td>...</td>\n      <td>...</td>\n      <td>...</td>\n      <td>...</td>\n      <td>...</td>\n      <td>...</td>\n      <td>...</td>\n      <td>...</td>\n    </tr>\n    <tr>\n      <th>2649370</th>\n      <td>0.0</td>\n      <td>0.0</td>\n      <td>0.0</td>\n      <td>0.0</td>\n      <td>0.0</td>\n      <td>0.0</td>\n      <td>0.0</td>\n      <td>0.0</td>\n      <td>0.0</td>\n      <td>0.0</td>\n      <td>...</td>\n      <td>0.0</td>\n      <td>0.0</td>\n      <td>0.0</td>\n      <td>0.0</td>\n      <td>0.0</td>\n      <td>0.0</td>\n      <td>0.0</td>\n      <td>0.0</td>\n      <td>4.0</td>\n      <td>0.0</td>\n    </tr>\n    <tr>\n      <th>2649378</th>\n      <td>0.0</td>\n      <td>0.0</td>\n      <td>0.0</td>\n      <td>0.0</td>\n      <td>0.0</td>\n      <td>0.0</td>\n      <td>0.0</td>\n      <td>0.0</td>\n      <td>0.0</td>\n      <td>0.0</td>\n      <td>...</td>\n      <td>0.0</td>\n      <td>0.0</td>\n      <td>0.0</td>\n      <td>0.0</td>\n      <td>0.0</td>\n      <td>3.0</td>\n      <td>0.0</td>\n      <td>0.0</td>\n      <td>0.0</td>\n      <td>0.0</td>\n    </tr>\n    <tr>\n      <th>2649388</th>\n      <td>0.0</td>\n      <td>0.0</td>\n      <td>0.0</td>\n      <td>0.0</td>\n      <td>0.0</td>\n      <td>0.0</td>\n      <td>0.0</td>\n      <td>0.0</td>\n      <td>0.0</td>\n      <td>0.0</td>\n      <td>...</td>\n      <td>0.0</td>\n      <td>0.0</td>\n      <td>1.0</td>\n      <td>0.0</td>\n      <td>0.0</td>\n      <td>0.0</td>\n      <td>0.0</td>\n      <td>0.0</td>\n      <td>0.0</td>\n      <td>0.0</td>\n    </tr>\n    <tr>\n      <th>2649426</th>\n      <td>0.0</td>\n      <td>0.0</td>\n      <td>0.0</td>\n      <td>0.0</td>\n      <td>0.0</td>\n      <td>0.0</td>\n      <td>0.0</td>\n      <td>0.0</td>\n      <td>0.0</td>\n      <td>0.0</td>\n      <td>...</td>\n      <td>0.0</td>\n      <td>0.0</td>\n      <td>4.0</td>\n      <td>0.0</td>\n      <td>0.0</td>\n      <td>0.0</td>\n      <td>0.0</td>\n      <td>0.0</td>\n      <td>0.0</td>\n      <td>0.0</td>\n    </tr>\n    <tr>\n      <th>2649429</th>\n      <td>0.0</td>\n      <td>0.0</td>\n      <td>0.0</td>\n      <td>0.0</td>\n      <td>0.0</td>\n      <td>0.0</td>\n      <td>0.0</td>\n      <td>0.0</td>\n      <td>0.0</td>\n      <td>0.0</td>\n      <td>...</td>\n      <td>0.0</td>\n      <td>0.0</td>\n      <td>0.0</td>\n      <td>0.0</td>\n      <td>0.0</td>\n      <td>0.0</td>\n      <td>0.0</td>\n      <td>0.0</td>\n      <td>0.0</td>\n      <td>0.0</td>\n    </tr>\n  </tbody>\n</table>\n<p>143458 rows × 1342 columns</p>\n</div>"
     },
     "execution_count": 10,
     "metadata": {},
     "output_type": "execute_result"
    }
   ],
   "source": [
    "ratings_matrix"
   ],
   "metadata": {
    "collapsed": false,
    "ExecuteTime": {
     "end_time": "2023-06-18T05:47:57.736769Z",
     "start_time": "2023-06-18T05:47:57.701251Z"
    }
   }
  },
  {
   "cell_type": "code",
   "execution_count": 11,
   "outputs": [
    {
     "data": {
      "text/plain": "User_ID                                      6        7        79       \\\nName                                                                     \n10                                               0.0      0.0      0.0   \n10 Things I Hate About You                       0.0      0.0      0.0   \n101 Dalmatians II: Patch's London Adventure      0.0      0.0      3.0   \n11:14                                            0.0      0.0      0.0   \n13 Ghosts                                        0.0      0.0      0.0   \n\nUser_ID                                      97       134      169      \\\nName                                                                     \n10                                               0.0      0.0      0.0   \n10 Things I Hate About You                       0.0      5.0      0.0   \n101 Dalmatians II: Patch's London Adventure      0.0      0.0      0.0   \n11:14                                            0.0      0.0      0.0   \n13 Ghosts                                        0.0      0.0      0.0   \n\nUser_ID                                      183      188      195      \\\nName                                                                     \n10                                               0.0      0.0      0.0   \n10 Things I Hate About You                       0.0      0.0      0.0   \n101 Dalmatians II: Patch's London Adventure      0.0      0.0      0.0   \n11:14                                            0.0      0.0      0.0   \n13 Ghosts                                        0.0      0.0      0.0   \n\nUser_ID                                      199      ...  2649308  2649328  \\\nName                                                  ...                     \n10                                               0.0  ...      0.0      0.0   \n10 Things I Hate About You                       0.0  ...      0.0      4.0   \n101 Dalmatians II: Patch's London Adventure      0.0  ...      0.0      0.0   \n11:14                                            0.0  ...      0.0      0.0   \n13 Ghosts                                        0.0  ...      0.0      0.0   \n\nUser_ID                                      2649331  2649335  2649336  \\\nName                                                                     \n10                                               0.0      0.0      0.0   \n10 Things I Hate About You                       0.0      0.0      0.0   \n101 Dalmatians II: Patch's London Adventure      0.0      0.0      0.0   \n11:14                                            0.0      0.0      0.0   \n13 Ghosts                                        0.0      0.0      0.0   \n\nUser_ID                                      2649370  2649378  2649388  \\\nName                                                                     \n10                                               0.0      0.0      0.0   \n10 Things I Hate About You                       0.0      0.0      0.0   \n101 Dalmatians II: Patch's London Adventure      0.0      0.0      0.0   \n11:14                                            0.0      0.0      0.0   \n13 Ghosts                                        0.0      0.0      0.0   \n\nUser_ID                                      2649426  2649429  \nName                                                           \n10                                               0.0      0.0  \n10 Things I Hate About You                       0.0      0.0  \n101 Dalmatians II: Patch's London Adventure      0.0      0.0  \n11:14                                            0.0      0.0  \n13 Ghosts                                        0.0      0.0  \n\n[5 rows x 143458 columns]",
      "text/html": "<div>\n<style scoped>\n    .dataframe tbody tr th:only-of-type {\n        vertical-align: middle;\n    }\n\n    .dataframe tbody tr th {\n        vertical-align: top;\n    }\n\n    .dataframe thead th {\n        text-align: right;\n    }\n</style>\n<table border=\"1\" class=\"dataframe\">\n  <thead>\n    <tr style=\"text-align: right;\">\n      <th>User_ID</th>\n      <th>6</th>\n      <th>7</th>\n      <th>79</th>\n      <th>97</th>\n      <th>134</th>\n      <th>169</th>\n      <th>183</th>\n      <th>188</th>\n      <th>195</th>\n      <th>199</th>\n      <th>...</th>\n      <th>2649308</th>\n      <th>2649328</th>\n      <th>2649331</th>\n      <th>2649335</th>\n      <th>2649336</th>\n      <th>2649370</th>\n      <th>2649378</th>\n      <th>2649388</th>\n      <th>2649426</th>\n      <th>2649429</th>\n    </tr>\n    <tr>\n      <th>Name</th>\n      <th></th>\n      <th></th>\n      <th></th>\n      <th></th>\n      <th></th>\n      <th></th>\n      <th></th>\n      <th></th>\n      <th></th>\n      <th></th>\n      <th></th>\n      <th></th>\n      <th></th>\n      <th></th>\n      <th></th>\n      <th></th>\n      <th></th>\n      <th></th>\n      <th></th>\n      <th></th>\n      <th></th>\n    </tr>\n  </thead>\n  <tbody>\n    <tr>\n      <th>10</th>\n      <td>0.0</td>\n      <td>0.0</td>\n      <td>0.0</td>\n      <td>0.0</td>\n      <td>0.0</td>\n      <td>0.0</td>\n      <td>0.0</td>\n      <td>0.0</td>\n      <td>0.0</td>\n      <td>0.0</td>\n      <td>...</td>\n      <td>0.0</td>\n      <td>0.0</td>\n      <td>0.0</td>\n      <td>0.0</td>\n      <td>0.0</td>\n      <td>0.0</td>\n      <td>0.0</td>\n      <td>0.0</td>\n      <td>0.0</td>\n      <td>0.0</td>\n    </tr>\n    <tr>\n      <th>10 Things I Hate About You</th>\n      <td>0.0</td>\n      <td>0.0</td>\n      <td>0.0</td>\n      <td>0.0</td>\n      <td>5.0</td>\n      <td>0.0</td>\n      <td>0.0</td>\n      <td>0.0</td>\n      <td>0.0</td>\n      <td>0.0</td>\n      <td>...</td>\n      <td>0.0</td>\n      <td>4.0</td>\n      <td>0.0</td>\n      <td>0.0</td>\n      <td>0.0</td>\n      <td>0.0</td>\n      <td>0.0</td>\n      <td>0.0</td>\n      <td>0.0</td>\n      <td>0.0</td>\n    </tr>\n    <tr>\n      <th>101 Dalmatians II: Patch's London Adventure</th>\n      <td>0.0</td>\n      <td>0.0</td>\n      <td>3.0</td>\n      <td>0.0</td>\n      <td>0.0</td>\n      <td>0.0</td>\n      <td>0.0</td>\n      <td>0.0</td>\n      <td>0.0</td>\n      <td>0.0</td>\n      <td>...</td>\n      <td>0.0</td>\n      <td>0.0</td>\n      <td>0.0</td>\n      <td>0.0</td>\n      <td>0.0</td>\n      <td>0.0</td>\n      <td>0.0</td>\n      <td>0.0</td>\n      <td>0.0</td>\n      <td>0.0</td>\n    </tr>\n    <tr>\n      <th>11:14</th>\n      <td>0.0</td>\n      <td>0.0</td>\n      <td>0.0</td>\n      <td>0.0</td>\n      <td>0.0</td>\n      <td>0.0</td>\n      <td>0.0</td>\n      <td>0.0</td>\n      <td>0.0</td>\n      <td>0.0</td>\n      <td>...</td>\n      <td>0.0</td>\n      <td>0.0</td>\n      <td>0.0</td>\n      <td>0.0</td>\n      <td>0.0</td>\n      <td>0.0</td>\n      <td>0.0</td>\n      <td>0.0</td>\n      <td>0.0</td>\n      <td>0.0</td>\n    </tr>\n    <tr>\n      <th>13 Ghosts</th>\n      <td>0.0</td>\n      <td>0.0</td>\n      <td>0.0</td>\n      <td>0.0</td>\n      <td>0.0</td>\n      <td>0.0</td>\n      <td>0.0</td>\n      <td>0.0</td>\n      <td>0.0</td>\n      <td>0.0</td>\n      <td>...</td>\n      <td>0.0</td>\n      <td>0.0</td>\n      <td>0.0</td>\n      <td>0.0</td>\n      <td>0.0</td>\n      <td>0.0</td>\n      <td>0.0</td>\n      <td>0.0</td>\n      <td>0.0</td>\n      <td>0.0</td>\n    </tr>\n  </tbody>\n</table>\n<p>5 rows × 143458 columns</p>\n</div>"
     },
     "execution_count": 11,
     "metadata": {},
     "output_type": "execute_result"
    }
   ],
   "source": [
    "# 아이템 기반으로 추출하기 위해 transpose 적용 (적용 결과 각 행에는 title, 열에는 user의 평가가 들어가 있음)\n",
    "# userId    1   2   3...\n",
    "# title     ...\n",
    "# title1    ...\n",
    "# title2    ...\n",
    "# title3    ...\n",
    "ratings_matrix_T = ratings_matrix.transpose()\n",
    "ratings_matrix_T.head()"
   ],
   "metadata": {
    "collapsed": false,
    "ExecuteTime": {
     "end_time": "2023-06-18T05:48:01.010926Z",
     "start_time": "2023-06-18T05:48:00.994144Z"
    }
   }
  },
  {
   "cell_type": "code",
   "execution_count": 12,
   "outputs": [],
   "source": [
    "# 각 영화를 기준으로 유저의 평가 양상이 얼마나 유사한지 cosine similarity 에 넣어서 평가\n",
    "# (n, n)의 정사각 행렬 반환 (대각 행렬은 자기 자신에 대한 유사도, 1)\n",
    "item_sim = cosine_similarity(ratings_matrix_T, ratings_matrix_T)\n",
    "# cosine similarity 행렬에 제목을 붙여서 반환\n",
    "item_sim_df = pd.DataFrame(data=item_sim, index=ratings_matrix.columns, columns=ratings_matrix.columns)"
   ],
   "metadata": {
    "collapsed": false,
    "ExecuteTime": {
     "end_time": "2023-06-18T05:48:10.975560Z",
     "start_time": "2023-06-18T05:48:03.972606Z"
    }
   }
  },
  {
   "cell_type": "code",
   "execution_count": 13,
   "outputs": [
    {
     "name": "stdout",
     "output_type": "stream",
     "text": [
      "Name\n",
      "Spirited Away                                             1.000000\n",
      "Princess Mononoke                                         0.608491\n",
      "Lord of the Rings: The Fellowship of the Ring             0.404676\n",
      "Ghost in the Shell                                        0.397631\n",
      "Being John Malkovich                                      0.393273\n",
      "Nausicaa of the Valley of the Wind                        0.388427\n",
      "Eternal Sunshine of the Spotless Mind                     0.378894\n",
      "American Beauty                                           0.378695\n",
      "Finding Nemo (Widescreen)                                 0.375678\n",
      "Pirates of the Caribbean: The Curse of the Black Pearl    0.374592\n",
      "Name: Spirited Away, dtype: float64\n"
     ]
    }
   ],
   "source": [
    "# extract similar with Spirited Away\n",
    "print(item_sim_df[\"Spirited Away\"].sort_values(ascending=False)[:10])"
   ],
   "metadata": {
    "collapsed": false,
    "ExecuteTime": {
     "end_time": "2023-06-18T05:48:21.196750Z",
     "start_time": "2023-06-18T05:48:21.181851Z"
    }
   }
  },
  {
   "cell_type": "code",
   "execution_count": 18,
   "outputs": [
    {
     "name": "stdout",
     "output_type": "stream",
     "text": [
      "### predict_rating_topsim - ratings_arr ###\n",
      " [[0. 0. 0. ... 0. 0. 0.]\n",
      " [0. 0. 0. ... 0. 0. 0.]\n",
      " [0. 0. 3. ... 0. 3. 0.]\n",
      " ...\n",
      " [0. 0. 0. ... 0. 0. 0.]\n",
      " [0. 0. 0. ... 0. 0. 0.]\n",
      " [0. 0. 0. ... 0. 0. 0.]] \n",
      " (143458, 1342)\n",
      "### predict_rating_topsim - item_sim_arr ###\n",
      " [[1.         0.12103235 0.0977181  ... 0.15688489 0.02791243 0.14855605]\n",
      " [0.12103235 1.         0.17488531 ... 0.15037328 0.06582096 0.09072585]\n",
      " [0.0977181  0.17488531 1.         ... 0.10128843 0.09743653 0.07258661]\n",
      " ...\n",
      " [0.15688489 0.15037328 0.10128843 ... 1.         0.0378071  0.1029814 ]\n",
      " [0.02791243 0.06582096 0.09743653 ... 0.0378071  1.         0.03133808]\n",
      " [0.14855605 0.09072585 0.07258661 ... 0.1029814  0.03133808 1.        ]] \n",
      " (1342, 1342)\n",
      "# predict_rating_topsim: 0 / 1342\n",
      "# predict_rating_topsim: 10 / 1342\n",
      "# predict_rating_topsim: 20 / 1342\n",
      "# predict_rating_topsim: 30 / 1342\n",
      "# predict_rating_topsim: 40 / 1342\n",
      "# predict_rating_topsim: 50 / 1342\n",
      "# predict_rating_topsim: 60 / 1342\n",
      "# predict_rating_topsim: 70 / 1342\n",
      "# predict_rating_topsim: 80 / 1342\n",
      "# predict_rating_topsim: 90 / 1342\n",
      "# predict_rating_topsim: 100 / 1342\n",
      "# predict_rating_topsim: 110 / 1342\n",
      "# predict_rating_topsim: 120 / 1342\n",
      "# predict_rating_topsim: 130 / 1342\n",
      "# predict_rating_topsim: 140 / 1342\n",
      "# predict_rating_topsim: 150 / 1342\n",
      "# predict_rating_topsim: 160 / 1342\n",
      "# predict_rating_topsim: 170 / 1342\n",
      "# predict_rating_topsim: 180 / 1342\n",
      "# predict_rating_topsim: 190 / 1342\n",
      "# predict_rating_topsim: 200 / 1342\n",
      "# predict_rating_topsim: 210 / 1342\n",
      "# predict_rating_topsim: 220 / 1342\n",
      "# predict_rating_topsim: 230 / 1342\n",
      "# predict_rating_topsim: 240 / 1342\n",
      "# predict_rating_topsim: 250 / 1342\n",
      "# predict_rating_topsim: 260 / 1342\n",
      "# predict_rating_topsim: 270 / 1342\n",
      "# predict_rating_topsim: 280 / 1342\n",
      "# predict_rating_topsim: 290 / 1342\n",
      "# predict_rating_topsim: 300 / 1342\n",
      "# predict_rating_topsim: 310 / 1342\n",
      "# predict_rating_topsim: 320 / 1342\n",
      "# predict_rating_topsim: 330 / 1342\n",
      "# predict_rating_topsim: 340 / 1342\n",
      "# predict_rating_topsim: 350 / 1342\n",
      "# predict_rating_topsim: 360 / 1342\n",
      "# predict_rating_topsim: 370 / 1342\n",
      "# predict_rating_topsim: 380 / 1342\n",
      "# predict_rating_topsim: 390 / 1342\n",
      "# predict_rating_topsim: 400 / 1342\n",
      "# predict_rating_topsim: 410 / 1342\n",
      "# predict_rating_topsim: 420 / 1342\n",
      "# predict_rating_topsim: 430 / 1342\n",
      "# predict_rating_topsim: 440 / 1342\n",
      "# predict_rating_topsim: 450 / 1342\n",
      "# predict_rating_topsim: 460 / 1342\n",
      "# predict_rating_topsim: 470 / 1342\n",
      "# predict_rating_topsim: 480 / 1342\n",
      "# predict_rating_topsim: 490 / 1342\n",
      "# predict_rating_topsim: 500 / 1342\n",
      "# predict_rating_topsim: 510 / 1342\n",
      "# predict_rating_topsim: 520 / 1342\n",
      "# predict_rating_topsim: 530 / 1342\n",
      "# predict_rating_topsim: 540 / 1342\n",
      "# predict_rating_topsim: 550 / 1342\n",
      "# predict_rating_topsim: 560 / 1342\n",
      "# predict_rating_topsim: 570 / 1342\n",
      "# predict_rating_topsim: 580 / 1342\n",
      "# predict_rating_topsim: 590 / 1342\n",
      "# predict_rating_topsim: 600 / 1342\n",
      "# predict_rating_topsim: 610 / 1342\n",
      "# predict_rating_topsim: 620 / 1342\n",
      "# predict_rating_topsim: 630 / 1342\n",
      "# predict_rating_topsim: 640 / 1342\n",
      "# predict_rating_topsim: 650 / 1342\n",
      "# predict_rating_topsim: 660 / 1342\n",
      "# predict_rating_topsim: 670 / 1342\n",
      "# predict_rating_topsim: 680 / 1342\n",
      "# predict_rating_topsim: 690 / 1342\n",
      "# predict_rating_topsim: 700 / 1342\n",
      "# predict_rating_topsim: 710 / 1342\n",
      "# predict_rating_topsim: 720 / 1342\n",
      "# predict_rating_topsim: 730 / 1342\n",
      "# predict_rating_topsim: 740 / 1342\n",
      "# predict_rating_topsim: 750 / 1342\n",
      "# predict_rating_topsim: 760 / 1342\n",
      "# predict_rating_topsim: 770 / 1342\n",
      "# predict_rating_topsim: 780 / 1342\n",
      "# predict_rating_topsim: 790 / 1342\n",
      "# predict_rating_topsim: 800 / 1342\n",
      "# predict_rating_topsim: 810 / 1342\n",
      "# predict_rating_topsim: 820 / 1342\n",
      "# predict_rating_topsim: 830 / 1342\n",
      "# predict_rating_topsim: 840 / 1342\n",
      "# predict_rating_topsim: 850 / 1342\n",
      "# predict_rating_topsim: 860 / 1342\n",
      "# predict_rating_topsim: 870 / 1342\n",
      "# predict_rating_topsim: 880 / 1342\n",
      "# predict_rating_topsim: 890 / 1342\n",
      "# predict_rating_topsim: 900 / 1342\n",
      "# predict_rating_topsim: 910 / 1342\n",
      "# predict_rating_topsim: 920 / 1342\n",
      "# predict_rating_topsim: 930 / 1342\n",
      "# predict_rating_topsim: 940 / 1342\n",
      "# predict_rating_topsim: 950 / 1342\n",
      "# predict_rating_topsim: 960 / 1342\n",
      "# predict_rating_topsim: 970 / 1342\n",
      "# predict_rating_topsim: 980 / 1342\n",
      "# predict_rating_topsim: 990 / 1342\n",
      "# predict_rating_topsim: 1000 / 1342\n",
      "# predict_rating_topsim: 1010 / 1342\n",
      "# predict_rating_topsim: 1020 / 1342\n",
      "# predict_rating_topsim: 1030 / 1342\n",
      "# predict_rating_topsim: 1040 / 1342\n",
      "# predict_rating_topsim: 1050 / 1342\n",
      "# predict_rating_topsim: 1060 / 1342\n",
      "# predict_rating_topsim: 1070 / 1342\n",
      "# predict_rating_topsim: 1080 / 1342\n",
      "# predict_rating_topsim: 1090 / 1342\n",
      "# predict_rating_topsim: 1100 / 1342\n",
      "# predict_rating_topsim: 1110 / 1342\n",
      "# predict_rating_topsim: 1120 / 1342\n",
      "# predict_rating_topsim: 1130 / 1342\n",
      "# predict_rating_topsim: 1140 / 1342\n",
      "# predict_rating_topsim: 1150 / 1342\n",
      "# predict_rating_topsim: 1160 / 1342\n",
      "# predict_rating_topsim: 1170 / 1342\n",
      "# predict_rating_topsim: 1180 / 1342\n",
      "# predict_rating_topsim: 1190 / 1342\n",
      "# predict_rating_topsim: 1200 / 1342\n",
      "# predict_rating_topsim: 1210 / 1342\n",
      "# predict_rating_topsim: 1220 / 1342\n",
      "# predict_rating_topsim: 1230 / 1342\n",
      "# predict_rating_topsim: 1240 / 1342\n",
      "# predict_rating_topsim: 1250 / 1342\n",
      "# predict_rating_topsim: 1260 / 1342\n",
      "# predict_rating_topsim: 1270 / 1342\n",
      "# predict_rating_topsim: 1280 / 1342\n",
      "# predict_rating_topsim: 1290 / 1342\n",
      "# predict_rating_topsim: 1300 / 1342\n",
      "# predict_rating_topsim: 1310 / 1342\n",
      "# predict_rating_topsim: 1320 / 1342\n",
      "# predict_rating_topsim: 1330 / 1342\n",
      "# predict_rating_topsim: 1340 / 1342\n"
     ]
    }
   ],
   "source": [
    "import warnings\n",
    "warnings.filterwarnings(\"ignore\")\n",
    "\n",
    "ratings_prd = predict_rating_topsim(ratings_matrix.values, item_sim_df.values, n=20)"
   ],
   "metadata": {
    "collapsed": false,
    "ExecuteTime": {
     "end_time": "2023-06-18T06:02:41.155931Z",
     "start_time": "2023-06-18T05:51:55.442196Z"
    }
   }
  },
  {
   "cell_type": "code",
   "execution_count": 19,
   "outputs": [
    {
     "name": "stdout",
     "output_type": "stream",
     "text": [
      "$$ Evaluation $$\n",
      " - MSE: 2.381904635178621\n",
      " - R2 Score: -1.8463608997796022\n"
     ]
    }
   ],
   "source": [
    "mse, r2 = get_evaluation(ratings_prd, ratings_matrix.values)\n",
    "print(\"$$ Evaluation $$\\n - MSE: {}\\n - R2 Score: {}\".format(mse, r2))\n",
    "ratings_prd_matrix = pd.DataFrame(data=ratings_prd, index=ratings_matrix.index, columns=ratings_matrix.columns)"
   ],
   "metadata": {
    "collapsed": false,
    "ExecuteTime": {
     "end_time": "2023-06-18T06:03:30.436747Z",
     "start_time": "2023-06-18T06:03:26.979521Z"
    }
   }
  },
  {
   "cell_type": "code",
   "execution_count": 20,
   "outputs": [
    {
     "data": {
      "text/plain": "Name      10  10 Things I Hate About You  \\\nUser_ID                                    \n6        0.0                         0.0   \n7        0.0                         0.0   \n79       0.0                         0.0   \n97       0.0                         0.0   \n134      0.0                         5.0   \n...      ...                         ...   \n2649370  0.0                         0.0   \n2649378  0.0                         0.0   \n2649388  0.0                         0.0   \n2649426  0.0                         0.0   \n2649429  0.0                         0.0   \n\nName     101 Dalmatians II: Patch's London Adventure  11:14  13 Ghosts  \\\nUser_ID                                                                  \n6                                                0.0    0.0        0.0   \n7                                                0.0    0.0        0.0   \n79                                               3.0    0.0        0.0   \n97                                               0.0    0.0        0.0   \n134                                              0.0    0.0        0.0   \n...                                              ...    ...        ...   \n2649370                                          0.0    0.0        0.0   \n2649378                                          0.0    0.0        0.0   \n2649388                                          0.0    0.0        0.0   \n2649426                                          0.0    0.0        0.0   \n2649429                                          0.0    0.0        0.0   \n\nName     18 Again  1984  2 Fast 2 Furious  200 Cigarettes  \\\nUser_ID                                                     \n6             0.0   4.0               0.0             0.0   \n7             0.0   0.0               3.0             0.0   \n79            0.0   0.0               2.0             0.0   \n97            0.0   0.0               0.0             0.0   \n134           0.0   0.0               5.0             0.0   \n...           ...   ...               ...             ...   \n2649370       0.0   0.0               0.0             0.0   \n2649378       0.0   0.0               0.0             0.0   \n2649388       0.0   0.0               0.0             0.0   \n2649426       0.0   0.0               0.0             0.0   \n2649429       0.0   0.0               0.0             0.0   \n\nName     2010: The Year We Make Contact  ...  \\\nUser_ID                                  ...   \n6                                   0.0  ...   \n7                                   0.0  ...   \n79                                  0.0  ...   \n97                                  0.0  ...   \n134                                 0.0  ...   \n...                                 ...  ...   \n2649370                             0.0  ...   \n2649378                             0.0  ...   \n2649388                             0.0  ...   \n2649426                             0.0  ...   \n2649429                             0.0  ...   \n\nName     Xena: Warrior Princess: Season 3  \\\nUser_ID                                     \n6                                     0.0   \n7                                     0.0   \n79                                    0.0   \n97                                    0.0   \n134                                   0.0   \n...                                   ...   \n2649370                               0.0   \n2649378                               0.0   \n2649388                               0.0   \n2649426                               0.0   \n2649429                               0.0   \n\nName     Xena: Warrior Princess: Series Finale  Y Tu Mama Tambien  \\\nUser_ID                                                             \n6                                          0.0                0.0   \n7                                          0.0                0.0   \n79                                         0.0                0.0   \n97                                         3.0                0.0   \n134                                        0.0                0.0   \n...                                        ...                ...   \n2649370                                    0.0                0.0   \n2649378                                    0.0                0.0   \n2649388                                    0.0                1.0   \n2649426                                    0.0                4.0   \n2649429                                    0.0                0.0   \n\nName     Yellow Submarine  Yi Yi  Yojimbo  Young Black Stallion  Youngblood  \\\nUser_ID                                                                       \n6                     0.0    0.0      0.0                   0.0         0.0   \n7                     0.0    0.0      0.0                   0.0         0.0   \n79                    0.0    0.0      0.0                   0.0         0.0   \n97                    0.0    0.0      0.0                   0.0         0.0   \n134                   0.0    0.0      0.0                   0.0         0.0   \n...                   ...    ...      ...                   ...         ...   \n2649370               0.0    0.0      0.0                   0.0         0.0   \n2649378               0.0    0.0      3.0                   0.0         0.0   \n2649388               0.0    0.0      0.0                   0.0         0.0   \n2649426               0.0    0.0      0.0                   0.0         0.0   \n2649429               0.0    0.0      0.0                   0.0         0.0   \n\nName     Yu-Gi-Oh!: The Movie  Zorro  \nUser_ID                               \n6                         0.0    0.0  \n7                         0.0    0.0  \n79                        3.0    0.0  \n97                        0.0    0.0  \n134                       0.0    0.0  \n...                       ...    ...  \n2649370                   4.0    0.0  \n2649378                   0.0    0.0  \n2649388                   0.0    0.0  \n2649426                   0.0    0.0  \n2649429                   0.0    0.0  \n\n[143458 rows x 1342 columns]",
      "text/html": "<div>\n<style scoped>\n    .dataframe tbody tr th:only-of-type {\n        vertical-align: middle;\n    }\n\n    .dataframe tbody tr th {\n        vertical-align: top;\n    }\n\n    .dataframe thead th {\n        text-align: right;\n    }\n</style>\n<table border=\"1\" class=\"dataframe\">\n  <thead>\n    <tr style=\"text-align: right;\">\n      <th>Name</th>\n      <th>10</th>\n      <th>10 Things I Hate About You</th>\n      <th>101 Dalmatians II: Patch's London Adventure</th>\n      <th>11:14</th>\n      <th>13 Ghosts</th>\n      <th>18 Again</th>\n      <th>1984</th>\n      <th>2 Fast 2 Furious</th>\n      <th>200 Cigarettes</th>\n      <th>2010: The Year We Make Contact</th>\n      <th>...</th>\n      <th>Xena: Warrior Princess: Season 3</th>\n      <th>Xena: Warrior Princess: Series Finale</th>\n      <th>Y Tu Mama Tambien</th>\n      <th>Yellow Submarine</th>\n      <th>Yi Yi</th>\n      <th>Yojimbo</th>\n      <th>Young Black Stallion</th>\n      <th>Youngblood</th>\n      <th>Yu-Gi-Oh!: The Movie</th>\n      <th>Zorro</th>\n    </tr>\n    <tr>\n      <th>User_ID</th>\n      <th></th>\n      <th></th>\n      <th></th>\n      <th></th>\n      <th></th>\n      <th></th>\n      <th></th>\n      <th></th>\n      <th></th>\n      <th></th>\n      <th></th>\n      <th></th>\n      <th></th>\n      <th></th>\n      <th></th>\n      <th></th>\n      <th></th>\n      <th></th>\n      <th></th>\n      <th></th>\n      <th></th>\n    </tr>\n  </thead>\n  <tbody>\n    <tr>\n      <th>6</th>\n      <td>0.0</td>\n      <td>0.0</td>\n      <td>0.0</td>\n      <td>0.0</td>\n      <td>0.0</td>\n      <td>0.0</td>\n      <td>4.0</td>\n      <td>0.0</td>\n      <td>0.0</td>\n      <td>0.0</td>\n      <td>...</td>\n      <td>0.0</td>\n      <td>0.0</td>\n      <td>0.0</td>\n      <td>0.0</td>\n      <td>0.0</td>\n      <td>0.0</td>\n      <td>0.0</td>\n      <td>0.0</td>\n      <td>0.0</td>\n      <td>0.0</td>\n    </tr>\n    <tr>\n      <th>7</th>\n      <td>0.0</td>\n      <td>0.0</td>\n      <td>0.0</td>\n      <td>0.0</td>\n      <td>0.0</td>\n      <td>0.0</td>\n      <td>0.0</td>\n      <td>3.0</td>\n      <td>0.0</td>\n      <td>0.0</td>\n      <td>...</td>\n      <td>0.0</td>\n      <td>0.0</td>\n      <td>0.0</td>\n      <td>0.0</td>\n      <td>0.0</td>\n      <td>0.0</td>\n      <td>0.0</td>\n      <td>0.0</td>\n      <td>0.0</td>\n      <td>0.0</td>\n    </tr>\n    <tr>\n      <th>79</th>\n      <td>0.0</td>\n      <td>0.0</td>\n      <td>3.0</td>\n      <td>0.0</td>\n      <td>0.0</td>\n      <td>0.0</td>\n      <td>0.0</td>\n      <td>2.0</td>\n      <td>0.0</td>\n      <td>0.0</td>\n      <td>...</td>\n      <td>0.0</td>\n      <td>0.0</td>\n      <td>0.0</td>\n      <td>0.0</td>\n      <td>0.0</td>\n      <td>0.0</td>\n      <td>0.0</td>\n      <td>0.0</td>\n      <td>3.0</td>\n      <td>0.0</td>\n    </tr>\n    <tr>\n      <th>97</th>\n      <td>0.0</td>\n      <td>0.0</td>\n      <td>0.0</td>\n      <td>0.0</td>\n      <td>0.0</td>\n      <td>0.0</td>\n      <td>0.0</td>\n      <td>0.0</td>\n      <td>0.0</td>\n      <td>0.0</td>\n      <td>...</td>\n      <td>0.0</td>\n      <td>3.0</td>\n      <td>0.0</td>\n      <td>0.0</td>\n      <td>0.0</td>\n      <td>0.0</td>\n      <td>0.0</td>\n      <td>0.0</td>\n      <td>0.0</td>\n      <td>0.0</td>\n    </tr>\n    <tr>\n      <th>134</th>\n      <td>0.0</td>\n      <td>5.0</td>\n      <td>0.0</td>\n      <td>0.0</td>\n      <td>0.0</td>\n      <td>0.0</td>\n      <td>0.0</td>\n      <td>5.0</td>\n      <td>0.0</td>\n      <td>0.0</td>\n      <td>...</td>\n      <td>0.0</td>\n      <td>0.0</td>\n      <td>0.0</td>\n      <td>0.0</td>\n      <td>0.0</td>\n      <td>0.0</td>\n      <td>0.0</td>\n      <td>0.0</td>\n      <td>0.0</td>\n      <td>0.0</td>\n    </tr>\n    <tr>\n      <th>...</th>\n      <td>...</td>\n      <td>...</td>\n      <td>...</td>\n      <td>...</td>\n      <td>...</td>\n      <td>...</td>\n      <td>...</td>\n      <td>...</td>\n      <td>...</td>\n      <td>...</td>\n      <td>...</td>\n      <td>...</td>\n      <td>...</td>\n      <td>...</td>\n      <td>...</td>\n      <td>...</td>\n      <td>...</td>\n      <td>...</td>\n      <td>...</td>\n      <td>...</td>\n      <td>...</td>\n    </tr>\n    <tr>\n      <th>2649370</th>\n      <td>0.0</td>\n      <td>0.0</td>\n      <td>0.0</td>\n      <td>0.0</td>\n      <td>0.0</td>\n      <td>0.0</td>\n      <td>0.0</td>\n      <td>0.0</td>\n      <td>0.0</td>\n      <td>0.0</td>\n      <td>...</td>\n      <td>0.0</td>\n      <td>0.0</td>\n      <td>0.0</td>\n      <td>0.0</td>\n      <td>0.0</td>\n      <td>0.0</td>\n      <td>0.0</td>\n      <td>0.0</td>\n      <td>4.0</td>\n      <td>0.0</td>\n    </tr>\n    <tr>\n      <th>2649378</th>\n      <td>0.0</td>\n      <td>0.0</td>\n      <td>0.0</td>\n      <td>0.0</td>\n      <td>0.0</td>\n      <td>0.0</td>\n      <td>0.0</td>\n      <td>0.0</td>\n      <td>0.0</td>\n      <td>0.0</td>\n      <td>...</td>\n      <td>0.0</td>\n      <td>0.0</td>\n      <td>0.0</td>\n      <td>0.0</td>\n      <td>0.0</td>\n      <td>3.0</td>\n      <td>0.0</td>\n      <td>0.0</td>\n      <td>0.0</td>\n      <td>0.0</td>\n    </tr>\n    <tr>\n      <th>2649388</th>\n      <td>0.0</td>\n      <td>0.0</td>\n      <td>0.0</td>\n      <td>0.0</td>\n      <td>0.0</td>\n      <td>0.0</td>\n      <td>0.0</td>\n      <td>0.0</td>\n      <td>0.0</td>\n      <td>0.0</td>\n      <td>...</td>\n      <td>0.0</td>\n      <td>0.0</td>\n      <td>1.0</td>\n      <td>0.0</td>\n      <td>0.0</td>\n      <td>0.0</td>\n      <td>0.0</td>\n      <td>0.0</td>\n      <td>0.0</td>\n      <td>0.0</td>\n    </tr>\n    <tr>\n      <th>2649426</th>\n      <td>0.0</td>\n      <td>0.0</td>\n      <td>0.0</td>\n      <td>0.0</td>\n      <td>0.0</td>\n      <td>0.0</td>\n      <td>0.0</td>\n      <td>0.0</td>\n      <td>0.0</td>\n      <td>0.0</td>\n      <td>...</td>\n      <td>0.0</td>\n      <td>0.0</td>\n      <td>4.0</td>\n      <td>0.0</td>\n      <td>0.0</td>\n      <td>0.0</td>\n      <td>0.0</td>\n      <td>0.0</td>\n      <td>0.0</td>\n      <td>0.0</td>\n    </tr>\n    <tr>\n      <th>2649429</th>\n      <td>0.0</td>\n      <td>0.0</td>\n      <td>0.0</td>\n      <td>0.0</td>\n      <td>0.0</td>\n      <td>0.0</td>\n      <td>0.0</td>\n      <td>0.0</td>\n      <td>0.0</td>\n      <td>0.0</td>\n      <td>...</td>\n      <td>0.0</td>\n      <td>0.0</td>\n      <td>0.0</td>\n      <td>0.0</td>\n      <td>0.0</td>\n      <td>0.0</td>\n      <td>0.0</td>\n      <td>0.0</td>\n      <td>0.0</td>\n      <td>0.0</td>\n    </tr>\n  </tbody>\n</table>\n<p>143458 rows × 1342 columns</p>\n</div>"
     },
     "execution_count": 20,
     "metadata": {},
     "output_type": "execute_result"
    }
   ],
   "source": [
    "ratings_matrix"
   ],
   "metadata": {
    "collapsed": false,
    "ExecuteTime": {
     "end_time": "2023-06-18T06:03:47.030600Z",
     "start_time": "2023-06-18T06:03:46.988991Z"
    }
   }
  },
  {
   "cell_type": "code",
   "execution_count": 22,
   "outputs": [
    {
     "name": "stdout",
     "output_type": "stream",
     "text": [
      "유저 6 의 평가 내용:\n"
     ]
    },
    {
     "data": {
      "text/plain": "Name\nRay                                              5.0\nBraveheart                                       5.0\nThe Godfather                                    5.0\nLord of the Rings: The Fellowship of the Ring    5.0\nSigns                                            5.0\n                                                ... \nX2: X-Men United                                 2.0\nNapoleon Dynamite                                1.0\nSix Feet Under: Season 4                         1.0\nCurb Your Enthusiasm: Season 3                   1.0\nS.W.A.T.                                         1.0\nName: 6, Length: 144, dtype: float64"
     },
     "execution_count": 22,
     "metadata": {},
     "output_type": "execute_result"
    }
   ],
   "source": [
    "userNum = int(input())\n",
    "user_rating_id = ratings_matrix.loc[userNum, :]\n",
    "print(\"유저\", userNum, \"의 평가 내용:\")\n",
    "user_rating_id[user_rating_id > 0].sort_values(ascending=False)"
   ],
   "metadata": {
    "collapsed": false,
    "ExecuteTime": {
     "end_time": "2023-06-18T06:04:04.275376Z",
     "start_time": "2023-06-18T06:04:03.067513Z"
    }
   }
  },
  {
   "cell_type": "code",
   "execution_count": 23,
   "outputs": [],
   "source": [
    "unseen_list = get_unseen_movies(ratings_matrix, userNum)\n",
    "recommend_movies = recomm_movie_by_userid(ratings_prd_matrix, userNum, unseen_list, top_n=10)\n",
    "recommend_movies = pd.DataFrame(data=recommend_movies.values, index=recommend_movies.index, columns=['prd_score'])"
   ],
   "metadata": {
    "collapsed": false,
    "ExecuteTime": {
     "end_time": "2023-06-18T06:04:40.234523Z",
     "start_time": "2023-06-18T06:04:40.227603Z"
    }
   }
  },
  {
   "cell_type": "code",
   "execution_count": 24,
   "outputs": [
    {
     "name": "stdout",
     "output_type": "stream",
     "text": [
      "최종 추천 결과:                                 prd_score\n",
      "Name                                     \n",
      "The Ladykillers                  3.534967\n",
      "Speed                            3.209120\n",
      "Training Day                     3.053509\n",
      "Secondhand Lions                 3.005262\n",
      "Mean Girls                       2.964602\n",
      "The Missing                      2.892093\n",
      "Daredevil                        2.874906\n",
      "The Lion King: Special Edition   2.816981\n",
      "House of Sand and Fog            2.755288\n",
      "Patch Adams                      2.743082\n"
     ]
    }
   ],
   "source": [
    "print(\"최종 추천 결과:\", recommend_movies)"
   ],
   "metadata": {
    "collapsed": false,
    "ExecuteTime": {
     "end_time": "2023-06-18T06:04:51.890135Z",
     "start_time": "2023-06-18T06:04:51.885641Z"
    }
   }
  },
  {
   "cell_type": "code",
   "execution_count": null,
   "outputs": [],
   "source": [],
   "metadata": {
    "collapsed": false
   }
  }
 ],
 "metadata": {
  "kernelspec": {
   "display_name": "Python 3",
   "language": "python",
   "name": "python3"
  },
  "language_info": {
   "codemirror_mode": {
    "name": "ipython",
    "version": 2
   },
   "file_extension": ".py",
   "mimetype": "text/x-python",
   "name": "python",
   "nbconvert_exporter": "python",
   "pygments_lexer": "ipython2",
   "version": "2.7.6"
  }
 },
 "nbformat": 4,
 "nbformat_minor": 0
}
